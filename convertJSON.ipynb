{
 "cells": [
  {
   "cell_type": "code",
   "execution_count": 1,
   "metadata": {},
   "outputs": [],
   "source": [
    "MODELNAME = 'ETH-USD Double 7 Signal Model'"
   ]
  },
  {
   "cell_type": "code",
   "execution_count": 2,
   "metadata": {},
   "outputs": [],
   "source": [
    "import pandas as pd\n",
    "from json import loads, dumps\n",
    "import os\n",
    "\n",
    "model_base_path = os.path.join(\"models\", MODELNAME)\n",
    "\n",
    "df = pd.read_csv(os.path.join(model_base_path, 'data/ETH-USD-5m.csv'))\n",
    "result = df.to_json(orient='records')\n",
    "parsed = loads(result)\n",
    "\n",
    "WEBPUBLICPATH = f'web/src/data/'\n",
    "\n",
    "klineFilePath = os.path.join(WEBPUBLICPATH, 'kline.json')\n",
    "with open(klineFilePath, 'w', encoding='utf-8') as jsonf:\n",
    "  jsonf.write(dumps(parsed, indent=4))\n",
    "\n",
    "df = pd.read_csv(os.path.join(model_base_path, 'summary/portfolio.csv'))\n",
    "result = df.to_json(orient='records')\n",
    "parsed = loads(result)\n",
    "\n",
    "recordsFilePath = os.path.join(WEBPUBLICPATH, 'portfolio.json')\n",
    "with open(recordsFilePath, 'w', encoding='utf-8') as jsonf:\n",
    "  jsonf.write(dumps(parsed, indent=4))\n",
    "\n",
    "df = pd.read_csv(os.path.join(model_base_path, 'summary/trading-records.csv'))\n",
    "result = df.to_json(orient='records')\n",
    "parsed = loads(result)\n",
    "\n",
    "recordsFilePath = os.path.join(WEBPUBLICPATH, 'trading-records.json')\n",
    "with open(recordsFilePath, 'w', encoding='utf-8') as jsonf:\n",
    "  jsonf.write(dumps(parsed, indent=4))"
   ]
  }
 ],
 "metadata": {
  "kernelspec": {
   "display_name": ".venv",
   "language": "python",
   "name": "python3"
  },
  "language_info": {
   "codemirror_mode": {
    "name": "ipython",
    "version": 3
   },
   "file_extension": ".py",
   "mimetype": "text/x-python",
   "name": "python",
   "nbconvert_exporter": "python",
   "pygments_lexer": "ipython3",
   "version": "3.10.4"
  }
 },
 "nbformat": 4,
 "nbformat_minor": 2
}
