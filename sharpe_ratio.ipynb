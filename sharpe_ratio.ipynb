{
 "cells": [
  {
   "cell_type": "code",
   "execution_count": 1,
   "metadata": {},
   "outputs": [
    {
     "name": "stderr",
     "output_type": "stream",
     "text": [
      "[*********************100%***********************]  1 of 1 completed\n"
     ]
    }
   ],
   "source": [
    "import yfinance as yf\n",
    "import math\n",
    "\n",
    "df = yf.download('AERT', start='2023-04-08', end='2024-04-08')"
   ]
  },
  {
   "cell_type": "code",
   "execution_count": 10,
   "metadata": {},
   "outputs": [
    {
     "data": {
      "text/plain": [
       "np.float64(-1.1413039367573472)"
      ]
     },
     "execution_count": 10,
     "metadata": {},
     "output_type": "execute_result"
    }
   ],
   "source": [
    "df['Close'].pct_change().mean() / df['Close'].pct_change().std() * math.sqrt(256)"
   ]
  },
  {
   "cell_type": "code",
   "execution_count": 2,
   "metadata": {},
   "outputs": [
    {
     "data": {
      "text/plain": [
       "'2023-04-09'"
      ]
     },
     "execution_count": 2,
     "metadata": {},
     "output_type": "execute_result"
    }
   ],
   "source": [
    "import datetime\n",
    "time = datetime.datetime.strptime('2024-04-08', '%Y-%m-%d') - datetime.timedelta(days=365)\n",
    "time.strftime('%Y-%m-%d')"
   ]
  },
  {
   "cell_type": "code",
   "execution_count": 2,
   "metadata": {},
   "outputs": [
    {
     "ename": "NameError",
     "evalue": "name 'datetime' is not defined",
     "output_type": "error",
     "traceback": [
      "\u001b[0;31m---------------------------------------------------------------------------\u001b[0m",
      "\u001b[0;31mNameError\u001b[0m                                 Traceback (most recent call last)",
      "Cell \u001b[0;32mIn[2], line 7\u001b[0m\n\u001b[1;32m      4\u001b[0m \u001b[38;5;28;01mdef\u001b[39;00m \u001b[38;5;21mcalculate_start_dates\u001b[39m(firstTrade):\n\u001b[1;32m      5\u001b[0m   \u001b[38;5;28;01mreturn\u001b[39;00m datetime\u001b[38;5;241m.\u001b[39mdatetime\u001b[38;5;241m.\u001b[39mstrptime(firstTrade, \u001b[38;5;124m'\u001b[39m\u001b[38;5;124m%\u001b[39m\u001b[38;5;124mY-\u001b[39m\u001b[38;5;124m%\u001b[39m\u001b[38;5;124mm-\u001b[39m\u001b[38;5;132;01m%d\u001b[39;00m\u001b[38;5;124m'\u001b[39m) \u001b[38;5;241m-\u001b[39m datetime\u001b[38;5;241m.\u001b[39mtimedelta(days\u001b[38;5;241m=\u001b[39m\u001b[38;5;241m365\u001b[39m)\n\u001b[0;32m----> 7\u001b[0m start_dates \u001b[38;5;241m=\u001b[39m \u001b[43mtickers\u001b[49m\u001b[43m[\u001b[49m\u001b[38;5;124;43m'\u001b[39;49m\u001b[38;5;124;43mFirstTrade\u001b[39;49m\u001b[38;5;124;43m'\u001b[39;49m\u001b[43m]\u001b[49m\u001b[38;5;241;43m.\u001b[39;49m\u001b[43mmap\u001b[49m\u001b[43m(\u001b[49m\u001b[38;5;28;43;01mlambda\u001b[39;49;00m\u001b[43m \u001b[49m\u001b[43mx\u001b[49m\u001b[43m:\u001b[49m\u001b[43m \u001b[49m\u001b[43mcalculate_start_dates\u001b[49m\u001b[43m(\u001b[49m\u001b[43mx\u001b[49m\u001b[43m)\u001b[49m\u001b[43m)\u001b[49m\n\u001b[1;32m      9\u001b[0m \u001b[38;5;28;01mdef\u001b[39;00m \u001b[38;5;21mcalculate_sharpe_ratio\u001b[39m(ticker, end_date):\n\u001b[1;32m     10\u001b[0m   start_date \u001b[38;5;241m=\u001b[39m calculate_start_dates(end_date)\n",
      "File \u001b[0;32m~/Documents/github/AlphaTrade/.venv/lib/python3.10/site-packages/pandas/core/series.py:4700\u001b[0m, in \u001b[0;36mSeries.map\u001b[0;34m(self, arg, na_action)\u001b[0m\n\u001b[1;32m   4620\u001b[0m \u001b[38;5;28;01mdef\u001b[39;00m \u001b[38;5;21mmap\u001b[39m(\n\u001b[1;32m   4621\u001b[0m     \u001b[38;5;28mself\u001b[39m,\n\u001b[1;32m   4622\u001b[0m     arg: Callable \u001b[38;5;241m|\u001b[39m Mapping \u001b[38;5;241m|\u001b[39m Series,\n\u001b[1;32m   4623\u001b[0m     na_action: Literal[\u001b[38;5;124m\"\u001b[39m\u001b[38;5;124mignore\u001b[39m\u001b[38;5;124m\"\u001b[39m] \u001b[38;5;241m|\u001b[39m \u001b[38;5;28;01mNone\u001b[39;00m \u001b[38;5;241m=\u001b[39m \u001b[38;5;28;01mNone\u001b[39;00m,\n\u001b[1;32m   4624\u001b[0m ) \u001b[38;5;241m-\u001b[39m\u001b[38;5;241m>\u001b[39m Series:\n\u001b[1;32m   4625\u001b[0m \u001b[38;5;250m    \u001b[39m\u001b[38;5;124;03m\"\"\"\u001b[39;00m\n\u001b[1;32m   4626\u001b[0m \u001b[38;5;124;03m    Map values of Series according to an input mapping or function.\u001b[39;00m\n\u001b[1;32m   4627\u001b[0m \n\u001b[0;32m   (...)\u001b[0m\n\u001b[1;32m   4698\u001b[0m \u001b[38;5;124;03m    dtype: object\u001b[39;00m\n\u001b[1;32m   4699\u001b[0m \u001b[38;5;124;03m    \"\"\"\u001b[39;00m\n\u001b[0;32m-> 4700\u001b[0m     new_values \u001b[38;5;241m=\u001b[39m \u001b[38;5;28;43mself\u001b[39;49m\u001b[38;5;241;43m.\u001b[39;49m\u001b[43m_map_values\u001b[49m\u001b[43m(\u001b[49m\u001b[43marg\u001b[49m\u001b[43m,\u001b[49m\u001b[43m \u001b[49m\u001b[43mna_action\u001b[49m\u001b[38;5;241;43m=\u001b[39;49m\u001b[43mna_action\u001b[49m\u001b[43m)\u001b[49m\n\u001b[1;32m   4701\u001b[0m     \u001b[38;5;28;01mreturn\u001b[39;00m \u001b[38;5;28mself\u001b[39m\u001b[38;5;241m.\u001b[39m_constructor(new_values, index\u001b[38;5;241m=\u001b[39m\u001b[38;5;28mself\u001b[39m\u001b[38;5;241m.\u001b[39mindex, copy\u001b[38;5;241m=\u001b[39m\u001b[38;5;28;01mFalse\u001b[39;00m)\u001b[38;5;241m.\u001b[39m__finalize__(\n\u001b[1;32m   4702\u001b[0m         \u001b[38;5;28mself\u001b[39m, method\u001b[38;5;241m=\u001b[39m\u001b[38;5;124m\"\u001b[39m\u001b[38;5;124mmap\u001b[39m\u001b[38;5;124m\"\u001b[39m\n\u001b[1;32m   4703\u001b[0m     )\n",
      "File \u001b[0;32m~/Documents/github/AlphaTrade/.venv/lib/python3.10/site-packages/pandas/core/base.py:921\u001b[0m, in \u001b[0;36mIndexOpsMixin._map_values\u001b[0;34m(self, mapper, na_action, convert)\u001b[0m\n\u001b[1;32m    918\u001b[0m \u001b[38;5;28;01mif\u001b[39;00m \u001b[38;5;28misinstance\u001b[39m(arr, ExtensionArray):\n\u001b[1;32m    919\u001b[0m     \u001b[38;5;28;01mreturn\u001b[39;00m arr\u001b[38;5;241m.\u001b[39mmap(mapper, na_action\u001b[38;5;241m=\u001b[39mna_action)\n\u001b[0;32m--> 921\u001b[0m \u001b[38;5;28;01mreturn\u001b[39;00m \u001b[43malgorithms\u001b[49m\u001b[38;5;241;43m.\u001b[39;49m\u001b[43mmap_array\u001b[49m\u001b[43m(\u001b[49m\u001b[43marr\u001b[49m\u001b[43m,\u001b[49m\u001b[43m \u001b[49m\u001b[43mmapper\u001b[49m\u001b[43m,\u001b[49m\u001b[43m \u001b[49m\u001b[43mna_action\u001b[49m\u001b[38;5;241;43m=\u001b[39;49m\u001b[43mna_action\u001b[49m\u001b[43m,\u001b[49m\u001b[43m \u001b[49m\u001b[43mconvert\u001b[49m\u001b[38;5;241;43m=\u001b[39;49m\u001b[43mconvert\u001b[49m\u001b[43m)\u001b[49m\n",
      "File \u001b[0;32m~/Documents/github/AlphaTrade/.venv/lib/python3.10/site-packages/pandas/core/algorithms.py:1743\u001b[0m, in \u001b[0;36mmap_array\u001b[0;34m(arr, mapper, na_action, convert)\u001b[0m\n\u001b[1;32m   1741\u001b[0m values \u001b[38;5;241m=\u001b[39m arr\u001b[38;5;241m.\u001b[39mastype(\u001b[38;5;28mobject\u001b[39m, copy\u001b[38;5;241m=\u001b[39m\u001b[38;5;28;01mFalse\u001b[39;00m)\n\u001b[1;32m   1742\u001b[0m \u001b[38;5;28;01mif\u001b[39;00m na_action \u001b[38;5;129;01mis\u001b[39;00m \u001b[38;5;28;01mNone\u001b[39;00m:\n\u001b[0;32m-> 1743\u001b[0m     \u001b[38;5;28;01mreturn\u001b[39;00m \u001b[43mlib\u001b[49m\u001b[38;5;241;43m.\u001b[39;49m\u001b[43mmap_infer\u001b[49m\u001b[43m(\u001b[49m\u001b[43mvalues\u001b[49m\u001b[43m,\u001b[49m\u001b[43m \u001b[49m\u001b[43mmapper\u001b[49m\u001b[43m,\u001b[49m\u001b[43m \u001b[49m\u001b[43mconvert\u001b[49m\u001b[38;5;241;43m=\u001b[39;49m\u001b[43mconvert\u001b[49m\u001b[43m)\u001b[49m\n\u001b[1;32m   1744\u001b[0m \u001b[38;5;28;01melse\u001b[39;00m:\n\u001b[1;32m   1745\u001b[0m     \u001b[38;5;28;01mreturn\u001b[39;00m lib\u001b[38;5;241m.\u001b[39mmap_infer_mask(\n\u001b[1;32m   1746\u001b[0m         values, mapper, mask\u001b[38;5;241m=\u001b[39misna(values)\u001b[38;5;241m.\u001b[39mview(np\u001b[38;5;241m.\u001b[39muint8), convert\u001b[38;5;241m=\u001b[39mconvert\n\u001b[1;32m   1747\u001b[0m     )\n",
      "File \u001b[0;32mlib.pyx:2972\u001b[0m, in \u001b[0;36mpandas._libs.lib.map_infer\u001b[0;34m()\u001b[0m\n",
      "Cell \u001b[0;32mIn[2], line 7\u001b[0m, in \u001b[0;36m<lambda>\u001b[0;34m(x)\u001b[0m\n\u001b[1;32m      4\u001b[0m \u001b[38;5;28;01mdef\u001b[39;00m \u001b[38;5;21mcalculate_start_dates\u001b[39m(firstTrade):\n\u001b[1;32m      5\u001b[0m   \u001b[38;5;28;01mreturn\u001b[39;00m datetime\u001b[38;5;241m.\u001b[39mdatetime\u001b[38;5;241m.\u001b[39mstrptime(firstTrade, \u001b[38;5;124m'\u001b[39m\u001b[38;5;124m%\u001b[39m\u001b[38;5;124mY-\u001b[39m\u001b[38;5;124m%\u001b[39m\u001b[38;5;124mm-\u001b[39m\u001b[38;5;132;01m%d\u001b[39;00m\u001b[38;5;124m'\u001b[39m) \u001b[38;5;241m-\u001b[39m datetime\u001b[38;5;241m.\u001b[39mtimedelta(days\u001b[38;5;241m=\u001b[39m\u001b[38;5;241m365\u001b[39m)\n\u001b[0;32m----> 7\u001b[0m start_dates \u001b[38;5;241m=\u001b[39m tickers[\u001b[38;5;124m'\u001b[39m\u001b[38;5;124mFirstTrade\u001b[39m\u001b[38;5;124m'\u001b[39m]\u001b[38;5;241m.\u001b[39mmap(\u001b[38;5;28;01mlambda\u001b[39;00m x: \u001b[43mcalculate_start_dates\u001b[49m\u001b[43m(\u001b[49m\u001b[43mx\u001b[49m\u001b[43m)\u001b[49m)\n\u001b[1;32m      9\u001b[0m \u001b[38;5;28;01mdef\u001b[39;00m \u001b[38;5;21mcalculate_sharpe_ratio\u001b[39m(ticker, end_date):\n\u001b[1;32m     10\u001b[0m   start_date \u001b[38;5;241m=\u001b[39m calculate_start_dates(end_date)\n",
      "Cell \u001b[0;32mIn[2], line 5\u001b[0m, in \u001b[0;36mcalculate_start_dates\u001b[0;34m(firstTrade)\u001b[0m\n\u001b[1;32m      4\u001b[0m \u001b[38;5;28;01mdef\u001b[39;00m \u001b[38;5;21mcalculate_start_dates\u001b[39m(firstTrade):\n\u001b[0;32m----> 5\u001b[0m   \u001b[38;5;28;01mreturn\u001b[39;00m \u001b[43mdatetime\u001b[49m\u001b[38;5;241m.\u001b[39mdatetime\u001b[38;5;241m.\u001b[39mstrptime(firstTrade, \u001b[38;5;124m'\u001b[39m\u001b[38;5;124m%\u001b[39m\u001b[38;5;124mY-\u001b[39m\u001b[38;5;124m%\u001b[39m\u001b[38;5;124mm-\u001b[39m\u001b[38;5;132;01m%d\u001b[39;00m\u001b[38;5;124m'\u001b[39m) \u001b[38;5;241m-\u001b[39m datetime\u001b[38;5;241m.\u001b[39mtimedelta(days\u001b[38;5;241m=\u001b[39m\u001b[38;5;241m365\u001b[39m)\n",
      "\u001b[0;31mNameError\u001b[0m: name 'datetime' is not defined"
     ]
    }
   ],
   "source": [
    "import pandas as pd\n",
    "tickers = pd.read_csv('assets/tickers.csv')\n",
    "\n",
    "def calculate_start_dates(firstTrade):\n",
    "  return datetime.datetime.strptime(firstTrade, '%Y-%m-%d') - datetime.timedelta(days=365)\n",
    "\n",
    "start_dates = tickers['FirstTrade'].map(lambda x: calculate_start_dates(x))\n",
    "\n",
    "def calculate_sharpe_ratio(ticker, end_date):\n",
    "  start_date = calculate_start_dates(end_date)\n",
    "  df = yf.download(ticker, start=start_date, end=end_date)\n",
    "  return df['Close'].pct_change().mean() - 0.0253 / df['Close'].pct_change().std() * math.sqrt(256)\n",
    "\n",
    "sharpe_ratios = tickers.apply(lambda x: calculate_sharpe_ratio(x['Ticker'], x['FirstTrade']), axis=1)"
   ]
  },
  {
   "cell_type": "code",
   "execution_count": 51,
   "metadata": {},
   "outputs": [
    {
     "name": "stderr",
     "output_type": "stream",
     "text": [
      "/tmp/ipykernel_298631/2886312442.py:6: UserWarning: no explicit representation of timezones available for np.datetime64\n",
      "  start = np.datetime64(firstTrade) - np.timedelta64(365, 'D')\n",
      "[*********************100%***********************]  1 of 1 completed\n",
      "/tmp/ipykernel_298631/2886312442.py:6: UserWarning: no explicit representation of timezones available for np.datetime64\n",
      "  start = np.datetime64(firstTrade) - np.timedelta64(365, 'D')\n",
      "[*********************100%***********************]  1 of 1 completed\n",
      "/tmp/ipykernel_298631/2886312442.py:6: UserWarning: no explicit representation of timezones available for np.datetime64\n",
      "  start = np.datetime64(firstTrade) - np.timedelta64(365, 'D')\n",
      "[*********************100%***********************]  1 of 1 completed\n",
      "/tmp/ipykernel_298631/2886312442.py:6: UserWarning: no explicit representation of timezones available for np.datetime64\n",
      "  start = np.datetime64(firstTrade) - np.timedelta64(365, 'D')\n",
      "[*********************100%***********************]  1 of 1 completed\n",
      "/tmp/ipykernel_298631/2886312442.py:6: UserWarning: no explicit representation of timezones available for np.datetime64\n",
      "  start = np.datetime64(firstTrade) - np.timedelta64(365, 'D')\n",
      "[*********************100%***********************]  1 of 1 completed\n",
      "/tmp/ipykernel_298631/2886312442.py:6: UserWarning: no explicit representation of timezones available for np.datetime64\n",
      "  start = np.datetime64(firstTrade) - np.timedelta64(365, 'D')\n",
      "[*********************100%***********************]  1 of 1 completed\n",
      "/tmp/ipykernel_298631/2886312442.py:6: UserWarning: no explicit representation of timezones available for np.datetime64\n",
      "  start = np.datetime64(firstTrade) - np.timedelta64(365, 'D')\n",
      "[*********************100%***********************]  1 of 1 completed\n",
      "/tmp/ipykernel_298631/2886312442.py:6: UserWarning: no explicit representation of timezones available for np.datetime64\n",
      "  start = np.datetime64(firstTrade) - np.timedelta64(365, 'D')\n",
      "[*********************100%***********************]  1 of 1 completed\n",
      "/tmp/ipykernel_298631/2886312442.py:6: UserWarning: no explicit representation of timezones available for np.datetime64\n",
      "  start = np.datetime64(firstTrade) - np.timedelta64(365, 'D')\n",
      "[*********************100%***********************]  1 of 1 completed\n",
      "/tmp/ipykernel_298631/2886312442.py:6: UserWarning: no explicit representation of timezones available for np.datetime64\n",
      "  start = np.datetime64(firstTrade) - np.timedelta64(365, 'D')\n",
      "[*********************100%***********************]  1 of 1 completed\n",
      "/tmp/ipykernel_298631/2886312442.py:6: UserWarning: no explicit representation of timezones available for np.datetime64\n",
      "  start = np.datetime64(firstTrade) - np.timedelta64(365, 'D')\n",
      "[*********************100%***********************]  1 of 1 completed\n",
      "/tmp/ipykernel_298631/2886312442.py:6: UserWarning: no explicit representation of timezones available for np.datetime64\n",
      "  start = np.datetime64(firstTrade) - np.timedelta64(365, 'D')\n",
      "[*********************100%***********************]  1 of 1 completed\n",
      "/tmp/ipykernel_298631/2886312442.py:6: UserWarning: no explicit representation of timezones available for np.datetime64\n",
      "  start = np.datetime64(firstTrade) - np.timedelta64(365, 'D')\n",
      "[*********************100%***********************]  1 of 1 completed\n",
      "/tmp/ipykernel_298631/2886312442.py:6: UserWarning: no explicit representation of timezones available for np.datetime64\n",
      "  start = np.datetime64(firstTrade) - np.timedelta64(365, 'D')\n",
      "[*********************100%***********************]  1 of 1 completed\n",
      "/tmp/ipykernel_298631/2886312442.py:6: UserWarning: no explicit representation of timezones available for np.datetime64\n",
      "  start = np.datetime64(firstTrade) - np.timedelta64(365, 'D')\n",
      "[*********************100%***********************]  1 of 1 completed\n",
      "/tmp/ipykernel_298631/2886312442.py:6: UserWarning: no explicit representation of timezones available for np.datetime64\n",
      "  start = np.datetime64(firstTrade) - np.timedelta64(365, 'D')\n",
      "[*********************100%***********************]  1 of 1 completed\n",
      "/tmp/ipykernel_298631/2886312442.py:6: UserWarning: no explicit representation of timezones available for np.datetime64\n",
      "  start = np.datetime64(firstTrade) - np.timedelta64(365, 'D')\n",
      "[*********************100%***********************]  1 of 1 completed\n",
      "/tmp/ipykernel_298631/2886312442.py:6: UserWarning: no explicit representation of timezones available for np.datetime64\n",
      "  start = np.datetime64(firstTrade) - np.timedelta64(365, 'D')\n",
      "[*********************100%***********************]  1 of 1 completed\n",
      "/tmp/ipykernel_298631/2886312442.py:6: UserWarning: no explicit representation of timezones available for np.datetime64\n",
      "  start = np.datetime64(firstTrade) - np.timedelta64(365, 'D')\n",
      "[*********************100%***********************]  1 of 1 completed\n",
      "/tmp/ipykernel_298631/2886312442.py:6: UserWarning: no explicit representation of timezones available for np.datetime64\n",
      "  start = np.datetime64(firstTrade) - np.timedelta64(365, 'D')\n",
      "[*********************100%***********************]  1 of 1 completed\n",
      "/tmp/ipykernel_298631/2886312442.py:6: UserWarning: no explicit representation of timezones available for np.datetime64\n",
      "  start = np.datetime64(firstTrade) - np.timedelta64(365, 'D')\n",
      "[*********************100%***********************]  1 of 1 completed\n",
      "/tmp/ipykernel_298631/2886312442.py:6: UserWarning: no explicit representation of timezones available for np.datetime64\n",
      "  start = np.datetime64(firstTrade) - np.timedelta64(365, 'D')\n",
      "[*********************100%***********************]  1 of 1 completed\n",
      "/tmp/ipykernel_298631/2886312442.py:6: UserWarning: no explicit representation of timezones available for np.datetime64\n",
      "  start = np.datetime64(firstTrade) - np.timedelta64(365, 'D')\n",
      "[*********************100%***********************]  1 of 1 completed\n",
      "/tmp/ipykernel_298631/2886312442.py:6: UserWarning: no explicit representation of timezones available for np.datetime64\n",
      "  start = np.datetime64(firstTrade) - np.timedelta64(365, 'D')\n",
      "[*********************100%***********************]  1 of 1 completed\n",
      "/tmp/ipykernel_298631/2886312442.py:6: UserWarning: no explicit representation of timezones available for np.datetime64\n",
      "  start = np.datetime64(firstTrade) - np.timedelta64(365, 'D')\n",
      "[*********************100%***********************]  1 of 1 completed\n",
      "/tmp/ipykernel_298631/2886312442.py:6: UserWarning: no explicit representation of timezones available for np.datetime64\n",
      "  start = np.datetime64(firstTrade) - np.timedelta64(365, 'D')\n",
      "[*********************100%***********************]  1 of 1 completed\n",
      "/tmp/ipykernel_298631/2886312442.py:6: UserWarning: no explicit representation of timezones available for np.datetime64\n",
      "  start = np.datetime64(firstTrade) - np.timedelta64(365, 'D')\n",
      "[*********************100%***********************]  1 of 1 completed\n",
      "/tmp/ipykernel_298631/2886312442.py:6: UserWarning: no explicit representation of timezones available for np.datetime64\n",
      "  start = np.datetime64(firstTrade) - np.timedelta64(365, 'D')\n",
      "[*********************100%***********************]  1 of 1 completed\n",
      "/tmp/ipykernel_298631/2886312442.py:6: UserWarning: no explicit representation of timezones available for np.datetime64\n",
      "  start = np.datetime64(firstTrade) - np.timedelta64(365, 'D')\n",
      "[*********************100%***********************]  1 of 1 completed\n",
      "/tmp/ipykernel_298631/2886312442.py:6: UserWarning: no explicit representation of timezones available for np.datetime64\n",
      "  start = np.datetime64(firstTrade) - np.timedelta64(365, 'D')\n",
      "[*********************100%***********************]  1 of 1 completed\n",
      "/tmp/ipykernel_298631/2886312442.py:6: UserWarning: no explicit representation of timezones available for np.datetime64\n",
      "  start = np.datetime64(firstTrade) - np.timedelta64(365, 'D')\n",
      "[*********************100%***********************]  1 of 1 completed\n",
      "/tmp/ipykernel_298631/2886312442.py:6: UserWarning: no explicit representation of timezones available for np.datetime64\n",
      "  start = np.datetime64(firstTrade) - np.timedelta64(365, 'D')\n",
      "[*********************100%***********************]  1 of 1 completed\n",
      "/tmp/ipykernel_298631/2886312442.py:6: UserWarning: no explicit representation of timezones available for np.datetime64\n",
      "  start = np.datetime64(firstTrade) - np.timedelta64(365, 'D')\n",
      "[*********************100%***********************]  1 of 1 completed\n",
      "/tmp/ipykernel_298631/2886312442.py:6: UserWarning: no explicit representation of timezones available for np.datetime64\n",
      "  start = np.datetime64(firstTrade) - np.timedelta64(365, 'D')\n",
      "[*********************100%***********************]  1 of 1 completed\n",
      "/tmp/ipykernel_298631/2886312442.py:6: UserWarning: no explicit representation of timezones available for np.datetime64\n",
      "  start = np.datetime64(firstTrade) - np.timedelta64(365, 'D')\n",
      "[*********************100%***********************]  1 of 1 completed\n",
      "/tmp/ipykernel_298631/2886312442.py:6: UserWarning: no explicit representation of timezones available for np.datetime64\n",
      "  start = np.datetime64(firstTrade) - np.timedelta64(365, 'D')\n",
      "[*********************100%***********************]  1 of 1 completed\n",
      "/tmp/ipykernel_298631/2886312442.py:6: UserWarning: no explicit representation of timezones available for np.datetime64\n",
      "  start = np.datetime64(firstTrade) - np.timedelta64(365, 'D')\n",
      "[*********************100%***********************]  1 of 1 completed\n",
      "/tmp/ipykernel_298631/2886312442.py:6: UserWarning: no explicit representation of timezones available for np.datetime64\n",
      "  start = np.datetime64(firstTrade) - np.timedelta64(365, 'D')\n",
      "[*********************100%***********************]  1 of 1 completed\n",
      "/tmp/ipykernel_298631/2886312442.py:6: UserWarning: no explicit representation of timezones available for np.datetime64\n",
      "  start = np.datetime64(firstTrade) - np.timedelta64(365, 'D')\n",
      "[*********************100%***********************]  1 of 1 completed\n",
      "/tmp/ipykernel_298631/2886312442.py:6: UserWarning: no explicit representation of timezones available for np.datetime64\n",
      "  start = np.datetime64(firstTrade) - np.timedelta64(365, 'D')\n",
      "[*********************100%***********************]  1 of 1 completed\n",
      "/tmp/ipykernel_298631/2886312442.py:6: UserWarning: no explicit representation of timezones available for np.datetime64\n",
      "  start = np.datetime64(firstTrade) - np.timedelta64(365, 'D')\n",
      "[*********************100%***********************]  1 of 1 completed\n",
      "/tmp/ipykernel_298631/2886312442.py:6: UserWarning: no explicit representation of timezones available for np.datetime64\n",
      "  start = np.datetime64(firstTrade) - np.timedelta64(365, 'D')\n",
      "[*********************100%***********************]  1 of 1 completed\n",
      "/tmp/ipykernel_298631/2886312442.py:6: UserWarning: no explicit representation of timezones available for np.datetime64\n",
      "  start = np.datetime64(firstTrade) - np.timedelta64(365, 'D')\n",
      "[*********************100%***********************]  1 of 1 completed\n",
      "/tmp/ipykernel_298631/2886312442.py:6: UserWarning: no explicit representation of timezones available for np.datetime64\n",
      "  start = np.datetime64(firstTrade) - np.timedelta64(365, 'D')\n",
      "[*********************100%***********************]  1 of 1 completed\n",
      "/tmp/ipykernel_298631/2886312442.py:6: UserWarning: no explicit representation of timezones available for np.datetime64\n",
      "  start = np.datetime64(firstTrade) - np.timedelta64(365, 'D')\n",
      "[*********************100%***********************]  1 of 1 completed\n",
      "/tmp/ipykernel_298631/2886312442.py:6: UserWarning: no explicit representation of timezones available for np.datetime64\n",
      "  start = np.datetime64(firstTrade) - np.timedelta64(365, 'D')\n",
      "[*********************100%***********************]  1 of 1 completed\n",
      "/tmp/ipykernel_298631/2886312442.py:6: UserWarning: no explicit representation of timezones available for np.datetime64\n",
      "  start = np.datetime64(firstTrade) - np.timedelta64(365, 'D')\n",
      "[*********************100%***********************]  1 of 1 completed\n",
      "/tmp/ipykernel_298631/2886312442.py:6: UserWarning: no explicit representation of timezones available for np.datetime64\n",
      "  start = np.datetime64(firstTrade) - np.timedelta64(365, 'D')\n",
      "[*********************100%***********************]  1 of 1 completed\n",
      "/tmp/ipykernel_298631/2886312442.py:6: UserWarning: no explicit representation of timezones available for np.datetime64\n",
      "  start = np.datetime64(firstTrade) - np.timedelta64(365, 'D')\n",
      "[*********************100%***********************]  1 of 1 completed\n",
      "/tmp/ipykernel_298631/2886312442.py:6: UserWarning: no explicit representation of timezones available for np.datetime64\n",
      "  start = np.datetime64(firstTrade) - np.timedelta64(365, 'D')\n",
      "[*********************100%***********************]  1 of 1 completed\n",
      "/tmp/ipykernel_298631/2886312442.py:6: UserWarning: no explicit representation of timezones available for np.datetime64\n",
      "  start = np.datetime64(firstTrade) - np.timedelta64(365, 'D')\n",
      "[*********************100%***********************]  1 of 1 completed\n",
      "/tmp/ipykernel_298631/2886312442.py:6: UserWarning: no explicit representation of timezones available for np.datetime64\n",
      "  start = np.datetime64(firstTrade) - np.timedelta64(365, 'D')\n",
      "[*********************100%***********************]  1 of 1 completed\n",
      "/tmp/ipykernel_298631/2886312442.py:6: UserWarning: no explicit representation of timezones available for np.datetime64\n",
      "  start = np.datetime64(firstTrade) - np.timedelta64(365, 'D')\n",
      "[*********************100%***********************]  1 of 1 completed\n",
      "/tmp/ipykernel_298631/2886312442.py:6: UserWarning: no explicit representation of timezones available for np.datetime64\n",
      "  start = np.datetime64(firstTrade) - np.timedelta64(365, 'D')\n",
      "[*********************100%***********************]  1 of 1 completed\n",
      "/tmp/ipykernel_298631/2886312442.py:6: UserWarning: no explicit representation of timezones available for np.datetime64\n",
      "  start = np.datetime64(firstTrade) - np.timedelta64(365, 'D')\n",
      "[*********************100%***********************]  1 of 1 completed\n",
      "/tmp/ipykernel_298631/2886312442.py:6: UserWarning: no explicit representation of timezones available for np.datetime64\n",
      "  start = np.datetime64(firstTrade) - np.timedelta64(365, 'D')\n",
      "[*********************100%***********************]  1 of 1 completed\n",
      "/tmp/ipykernel_298631/2886312442.py:6: UserWarning: no explicit representation of timezones available for np.datetime64\n",
      "  start = np.datetime64(firstTrade) - np.timedelta64(365, 'D')\n",
      "[*********************100%***********************]  1 of 1 completed\n",
      "/tmp/ipykernel_298631/2886312442.py:6: UserWarning: no explicit representation of timezones available for np.datetime64\n",
      "  start = np.datetime64(firstTrade) - np.timedelta64(365, 'D')\n",
      "[*********************100%***********************]  1 of 1 completed\n",
      "/tmp/ipykernel_298631/2886312442.py:6: UserWarning: no explicit representation of timezones available for np.datetime64\n",
      "  start = np.datetime64(firstTrade) - np.timedelta64(365, 'D')\n",
      "[*********************100%***********************]  1 of 1 completed\n",
      "/tmp/ipykernel_298631/2886312442.py:6: UserWarning: no explicit representation of timezones available for np.datetime64\n",
      "  start = np.datetime64(firstTrade) - np.timedelta64(365, 'D')\n",
      "[*********************100%***********************]  1 of 1 completed\n",
      "/tmp/ipykernel_298631/2886312442.py:6: UserWarning: no explicit representation of timezones available for np.datetime64\n",
      "  start = np.datetime64(firstTrade) - np.timedelta64(365, 'D')\n",
      "[*********************100%***********************]  1 of 1 completed\n",
      "/tmp/ipykernel_298631/2886312442.py:6: UserWarning: no explicit representation of timezones available for np.datetime64\n",
      "  start = np.datetime64(firstTrade) - np.timedelta64(365, 'D')\n",
      "[*********************100%***********************]  1 of 1 completed\n",
      "/tmp/ipykernel_298631/2886312442.py:6: UserWarning: no explicit representation of timezones available for np.datetime64\n",
      "  start = np.datetime64(firstTrade) - np.timedelta64(365, 'D')\n",
      "[*********************100%***********************]  1 of 1 completed\n",
      "/tmp/ipykernel_298631/2886312442.py:6: UserWarning: no explicit representation of timezones available for np.datetime64\n",
      "  start = np.datetime64(firstTrade) - np.timedelta64(365, 'D')\n",
      "[*********************100%***********************]  1 of 1 completed\n",
      "/tmp/ipykernel_298631/2886312442.py:6: UserWarning: no explicit representation of timezones available for np.datetime64\n",
      "  start = np.datetime64(firstTrade) - np.timedelta64(365, 'D')\n",
      "[*********************100%***********************]  1 of 1 completed\n",
      "/tmp/ipykernel_298631/2886312442.py:6: UserWarning: no explicit representation of timezones available for np.datetime64\n",
      "  start = np.datetime64(firstTrade) - np.timedelta64(365, 'D')\n",
      "[*********************100%***********************]  1 of 1 completed\n",
      "/tmp/ipykernel_298631/2886312442.py:6: UserWarning: no explicit representation of timezones available for np.datetime64\n",
      "  start = np.datetime64(firstTrade) - np.timedelta64(365, 'D')\n",
      "[*********************100%***********************]  1 of 1 completed\n",
      "/tmp/ipykernel_298631/2886312442.py:6: UserWarning: no explicit representation of timezones available for np.datetime64\n",
      "  start = np.datetime64(firstTrade) - np.timedelta64(365, 'D')\n",
      "[*********************100%***********************]  1 of 1 completed\n",
      "/tmp/ipykernel_298631/2886312442.py:6: UserWarning: no explicit representation of timezones available for np.datetime64\n",
      "  start = np.datetime64(firstTrade) - np.timedelta64(365, 'D')\n",
      "[*********************100%***********************]  1 of 1 completed\n"
     ]
    }
   ],
   "source": [
    "import pandas as pd\n",
    "import numpy as np\n",
    "tickers = pd.read_csv('assets/trading-records.csv')\n",
    "\n",
    "def calculate_start_dates(firstTrade):\n",
    "  start = np.datetime64(firstTrade) - np.timedelta64(365, 'D')\n",
    "  return pd.to_datetime(start).strftime('%Y-%m-%d'), pd.to_datetime(firstTrade).strftime('%Y-%m-%d')\n",
    "\n",
    "def calculate_sharpe_ratio(ticker, end_date):\n",
    "  start_date, end_date = calculate_start_dates(end_date)\n",
    "  df = yf.download(ticker, start=start_date, end=end_date)\n",
    "  return df['Close'].pct_change().mean() - 0.0253 / df['Close'].pct_change().std() * math.sqrt(256)\n",
    "\n",
    "sharpe_ratios = tickers.apply(lambda x: calculate_sharpe_ratio(x['Equity Name'], x['Entry Time']), axis=1)"
   ]
  },
  {
   "cell_type": "code",
   "execution_count": 48,
   "metadata": {},
   "outputs": [
    {
     "name": "stderr",
     "output_type": "stream",
     "text": [
      "/tmp/ipykernel_298631/3646967252.py:2: UserWarning: no explicit representation of timezones available for np.datetime64\n",
      "  start = np.datetime64(firstTrade) - np.timedelta64(365, 'D')\n"
     ]
    },
    {
     "data": {
      "text/plain": [
       "'2021-08-10'"
      ]
     },
     "execution_count": 48,
     "metadata": {},
     "output_type": "execute_result"
    }
   ],
   "source": [
    "def calculate_start_dates(firstTrade):\n",
    "  start = np.datetime64(firstTrade) - np.timedelta64(365, 'D')\n",
    "  return pd.to_datetime(start).strftime('%Y-%m-%d')\n",
    "\n",
    "calculate_start_dates('2022-08-10 00:00:00+00:00')"
   ]
  },
  {
   "cell_type": "code",
   "execution_count": 52,
   "metadata": {},
   "outputs": [
    {
     "data": {
      "text/plain": [
       "0    -6.638599\n",
       "1    -7.309907\n",
       "2    -2.683460\n",
       "3    -7.035909\n",
       "4    -5.694623\n",
       "        ...   \n",
       "64   -4.516366\n",
       "65   -4.598580\n",
       "66   -3.344658\n",
       "67   -7.262431\n",
       "68   -4.606717\n",
       "Length: 69, dtype: float64"
      ]
     },
     "execution_count": 52,
     "metadata": {},
     "output_type": "execute_result"
    }
   ],
   "source": [
    "sharpe_ratios"
   ]
  },
  {
   "cell_type": "code",
   "execution_count": 53,
   "metadata": {},
   "outputs": [
    {
     "data": {
      "text/plain": [
       "0      17.10\n",
       "1      81.26\n",
       "2     100.00\n",
       "3     100.00\n",
       "4      98.46\n",
       "       ...  \n",
       "64     -6.90\n",
       "65     38.89\n",
       "66     16.98\n",
       "67     28.61\n",
       "68     -2.68\n",
       "Name: % PNL, Length: 69, dtype: float64"
      ]
     },
     "execution_count": 53,
     "metadata": {},
     "output_type": "execute_result"
    }
   ],
   "source": [
    "df = pd.read_csv(\"assets/trading-records.csv\")\n",
    "df['% PNL']"
   ]
  },
  {
   "cell_type": "code",
   "execution_count": 54,
   "metadata": {},
   "outputs": [],
   "source": [
    "from scipy.stats import pearsonr\n",
    "\n",
    "corr, _ = pearsonr(df['% PNL'], sharpe_ratios)"
   ]
  },
  {
   "cell_type": "code",
   "execution_count": 55,
   "metadata": {},
   "outputs": [
    {
     "data": {
      "text/plain": [
       "np.float64(-0.05269920254768896)"
      ]
     },
     "execution_count": 55,
     "metadata": {},
     "output_type": "execute_result"
    }
   ],
   "source": [
    "corr"
   ]
  },
  {
   "cell_type": "code",
   "execution_count": 5,
   "metadata": {},
   "outputs": [
    {
     "name": "stderr",
     "output_type": "stream",
     "text": [
      "[*********************100%***********************]  1 of 1 completed\n",
      "[*********************100%***********************]  1 of 1 completed\n"
     ]
    },
    {
     "name": "stdout",
     "output_type": "stream",
     "text": [
      "PLTR 0.03965112703315052\n",
      "TSLA 0.03779906370542464\n"
     ]
    },
    {
     "name": "stderr",
     "output_type": "stream",
     "text": [
      "[*********************100%***********************]  1 of 1 completed\n",
      "[*********************100%***********************]  1 of 1 completed\n"
     ]
    },
    {
     "name": "stdout",
     "output_type": "stream",
     "text": [
      "NU 0.023281474841942824\n",
      "INOD 0.06860421078025199\n"
     ]
    },
    {
     "name": "stderr",
     "output_type": "stream",
     "text": [
      "[*********************100%***********************]  1 of 1 completed"
     ]
    },
    {
     "name": "stdout",
     "output_type": "stream",
     "text": [
      "ETH-USD 0.03278461818019376\n"
     ]
    },
    {
     "name": "stderr",
     "output_type": "stream",
     "text": [
      "\n"
     ]
    }
   ],
   "source": [
    "tickers = ['PLTR', 'TSLA', 'NU', 'INOD', 'ETH-USD']\n",
    "\n",
    "def calculate_start_dates(firstTrade):\n",
    "  return datetime.datetime.strptime(firstTrade, '%Y-%m-%d') - datetime.timedelta(days=365)\n",
    "\n",
    "def calculate_sharpe_ratio(ticker, end_date):\n",
    "  start_date = calculate_start_dates(end_date)\n",
    "  df = yf.download(ticker, start=start_date, end=end_date)\n",
    "  return df['Close'].pct_change().std()\n",
    "\n",
    "for ticker in tickers:\n",
    "  print(ticker, calculate_sharpe_ratio(ticker, datetime.datetime.now().strftime('%Y-%m-%d')))"
   ]
  }
 ],
 "metadata": {
  "kernelspec": {
   "display_name": ".venv",
   "language": "python",
   "name": "python3"
  },
  "language_info": {
   "codemirror_mode": {
    "name": "ipython",
    "version": 3
   },
   "file_extension": ".py",
   "mimetype": "text/x-python",
   "name": "python",
   "nbconvert_exporter": "python",
   "pygments_lexer": "ipython3",
   "version": "3.10.4"
  }
 },
 "nbformat": 4,
 "nbformat_minor": 2
}
