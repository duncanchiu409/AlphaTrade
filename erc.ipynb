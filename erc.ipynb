{
 "cells": [
  {
   "cell_type": "code",
   "execution_count": 2,
   "metadata": {},
   "outputs": [],
   "source": [
    "import numpy as np\n",
    "from scipy.optimize import minimize\n",
    "from scipy.stats import skew\n",
    "import math\n",
    "import pandas as pd\n",
    "import datetime\n",
    "import yfinance as yf"
   ]
  },
  {
   "cell_type": "code",
   "execution_count": 3,
   "metadata": {},
   "outputs": [],
   "source": [
    "def risk_contribution(weights, cov_matrix):\n",
    "    portfolio_vol = np.sqrt(np.dot(weights.T, np.dot(cov_matrix, weights)))\n",
    "    marginal_risk = np.dot(cov_matrix, weights) / portfolio_vol\n",
    "    risk_contrib = np.multiply(weights, marginal_risk)\n",
    "    return risk_contrib\n",
    "\n",
    "def risk_parity_objective(weights, cov_matrix):\n",
    "    risk_contribs = risk_contribution(weights, cov_matrix)\n",
    "    target_risk = np.mean(risk_contribs)\n",
    "    sum_sq_diff = sum([(rc - target_risk)**2 for rc in risk_contribs])\n",
    "    return sum_sq_diff\n",
    "\n",
    "def erc_portfolio(returns, initial_weights=None):\n",
    "    \"\"\"\n",
    "    Build ERC portfolio from asset returns\n",
    "\n",
    "    Parameters:\n",
    "    returns: DataFrame of asset returns\n",
    "    initial_weights: Initial guess for optimization (default: equal weights)\n",
    "\n",
    "    Returns:\n",
    "    optimal weights array\n",
    "    \"\"\"\n",
    "    # Calculate covariance matrix\n",
    "    cov_matrix = np.cov(returns.T)\n",
    "    n_assets = len(returns.columns)\n",
    "\n",
    "    if initial_weights is None:\n",
    "        initial_weights = np.array([1/n_assets] * n_assets)\n",
    "\n",
    "    # Constraints\n",
    "    constraints = [\n",
    "        {'type': 'eq', 'fun': lambda x: np.sum(x) - 1},  # weights sum to 1\n",
    "    ]\n",
    "\n",
    "    # Bounds for weights (0 to 1)\n",
    "    bounds = tuple((0, 1) for _ in range(n_assets))\n",
    "\n",
    "    # Optimize\n",
    "    result = minimize(risk_parity_objective,\n",
    "                     initial_weights,\n",
    "                     args=(cov_matrix,),\n",
    "                     method='SLSQP',\n",
    "                     constraints=constraints,\n",
    "                     bounds=bounds,\n",
    "                     tol=1e-12)\n",
    "\n",
    "    return result.x"
   ]
  },
  {
   "cell_type": "code",
   "execution_count": 4,
   "metadata": {},
   "outputs": [],
   "source": [
    "def calculate_start_dates(firstTrade):\n",
    "  return datetime.datetime.strptime(firstTrade, '%Y-%m-%d') - datetime.timedelta(days=365)\n",
    "\n",
    "def close_prices(ticker, startdate, enddate):\n",
    "  df = yf.download(ticker, startdate, enddate)\n",
    "  return df['Adj Close'].pct_change().values"
   ]
  },
  {
   "cell_type": "code",
   "execution_count": 5,
   "metadata": {},
   "outputs": [
    {
     "name": "stderr",
     "output_type": "stream",
     "text": [
      "[*********************100%%**********************]  1 of 1 completed\n"
     ]
    },
    {
     "name": "stdout",
     "output_type": "stream",
     "text": [
      "PLTR 251\n"
     ]
    },
    {
     "name": "stderr",
     "output_type": "stream",
     "text": [
      "[*********************100%%**********************]  1 of 1 completed\n",
      "[*********************100%%**********************]  1 of 1 completed"
     ]
    },
    {
     "name": "stdout",
     "output_type": "stream",
     "text": [
      "TSLA 251\n",
      "INOD 251\n"
     ]
    },
    {
     "name": "stderr",
     "output_type": "stream",
     "text": [
      "\n"
     ]
    },
    {
     "data": {
      "text/plain": [
       "array([[0.0015811 , 0.00048024, 0.00072388],\n",
       "       [0.00048024, 0.00147727, 0.00060947],\n",
       "       [0.00072388, 0.00060947, 0.00643308]])"
      ]
     },
     "execution_count": 5,
     "metadata": {},
     "output_type": "execute_result"
    }
   ],
   "source": [
    "tickers = ['PLTR', 'TSLA', 'INOD']\n",
    "\n",
    "df = {}\n",
    "\n",
    "for ticker in tickers:\n",
    "  firstTrade = datetime.datetime.now().strftime(\"%Y-%m-%d\")\n",
    "  enddate = calculate_start_dates(firstTrade)\n",
    "  df[ticker] = close_prices(ticker, enddate, firstTrade)\n",
    "  print(ticker, len(df[ticker]))\n",
    "\n",
    "# df['ETH-USD'] = df['ETH-USD'][:-251:-1]\n",
    "df = pd.DataFrame(df)\n",
    "df = df.dropna(axis=0)\n",
    "\n",
    "np.cov(df.T)"
   ]
  },
  {
   "cell_type": "code",
   "execution_count": 6,
   "metadata": {},
   "outputs": [
    {
     "name": "stderr",
     "output_type": "stream",
     "text": [
      "[*********************100%%**********************]  1 of 1 completed\n",
      "[*********************100%%**********************]  1 of 1 completed\n",
      "[*********************100%%**********************]  1 of 1 completed"
     ]
    },
    {
     "name": "stdout",
     "output_type": "stream",
     "text": [
      "PLTR: optimal weight should be 38.90%, expected sharpe ratio is 2.031606265378583\n",
      "TSLA: optimal weight should be 40.80%, expected sharpe ratio is 0.798966035202282\n",
      "INOD: optimal weight should be 20.30%, expected sharpe ratio is 1.8426057855360185\n"
     ]
    },
    {
     "name": "stderr",
     "output_type": "stream",
     "text": [
      "\n"
     ]
    }
   ],
   "source": [
    "# Calculate ERC weights expected individual daily volatility is {},\n",
    "weights = erc_portfolio(df)\n",
    "\n",
    "def calculate_sharpe_ratio(ticker, end_date):\n",
    "  start_date = calculate_start_dates(end_date)\n",
    "  df = yf.download(ticker, start=start_date, end=end_date)\n",
    "  df = df['Adj Close'].pct_change().dropna(axis=0)\n",
    "  return (df.mean() - 0.0253 / 256) / df.std() * math.sqrt(256)\n",
    "\n",
    "# Print results\n",
    "for asset, weight in zip(df.columns, weights):\n",
    "    print(f\"{asset}: optimal weight should be {weight:.2%}, expected sharpe ratio is {calculate_sharpe_ratio(asset, datetime.datetime.today().strftime('%Y-%m-%d'))}\")"
   ]
  },
  {
   "cell_type": "code",
   "execution_count": 7,
   "metadata": {},
   "outputs": [
    {
     "name": "stdout",
     "output_type": "stream",
     "text": [
      "[[0.0015811  0.00048024 0.00072388]\n",
      " [0.00048024 0.00147727 0.00060947]\n",
      " [0.00072388 0.00060947 0.00643308]]\n",
      "The portfolio volatility is: 2.51%\n"
     ]
    }
   ],
   "source": [
    "weights = [0.38, 0.09, 0.19]\n",
    "\n",
    "# Total Risk Calculator\n",
    "def calculate_portfolio_volatility(weights, covariance_matrix):\n",
    "    # Calculate the variance of the portfolio\n",
    "    variance = np.dot(weights, np.dot(covariance_matrix, weights))\n",
    "\n",
    "    # Return the standard deviation (volatility) of the portfolio\n",
    "    return np.sqrt(variance)\n",
    "\n",
    "covariance_matrix = np.cov(df.T)\n",
    "print(covariance_matrix)\n",
    "\n",
    "# Calculate and print the portfolio volatility\n",
    "portfolio_volatility = calculate_portfolio_volatility(weights, covariance_matrix)\n",
    "print(f\"The portfolio volatility is: {portfolio_volatility:.2%}\")"
   ]
  },
  {
   "cell_type": "code",
   "execution_count": 12,
   "metadata": {},
   "outputs": [
    {
     "data": {
      "text/plain": [
       "[Text(0.5, 1.0, 'Frequency Histogram'), Text(0, 0.5, 'Frequency')]"
      ]
     },
     "execution_count": 12,
     "metadata": {},
     "output_type": "execute_result"
    },
    {
     "data": {
      "image/png": "[encoded data removed]",
      "text/plain": [
       "<Figure size 700x500 with 1 Axes>"
      ]
     },
     "metadata": {},
     "output_type": "display_data"
    }
   ],
   "source": [
    "# Frequency Distribution\n",
    "from matplotlib import pyplot as plt\n",
    "%matplotlib inline\n",
    "\n",
    "plt.rcParams.update({'figure.figsize': (7, 5), 'figure.dpi': 100})\n",
    "\n",
    "x = df['TSLA']\n",
    "plt.hist(x, bins=20)\n",
    "plt.gca().set(title='Frequency Histogram', ylabel='Frequency')"
   ]
  }
 ],
 "metadata": {
  "kernelspec": {
   "display_name": "3.10.4",
   "language": "python",
   "name": "python3"
  },
  "language_info": {
   "codemirror_mode": {
    "name": "ipython",
    "version": 3
   },
   "file_extension": ".py",
   "mimetype": "text/x-python",
   "name": "python",
   "nbconvert_exporter": "python",
   "pygments_lexer": "ipython3",
   "version": "3.10.4"
  }
 },
 "nbformat": 4,
 "nbformat_minor": 2
}
