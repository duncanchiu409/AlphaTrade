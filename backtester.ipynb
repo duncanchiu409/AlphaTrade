{
 "cells": [
  {
   "cell_type": "code",
   "execution_count": 7,
   "metadata": {},
   "outputs": [
    {
     "name": "stderr",
     "output_type": "stream",
     "text": [
      "[*********************100%***********************]  70 of 70 completed\n"
     ]
    },
    {
     "name": "stdout",
     "output_type": "stream",
     "text": [
      "0.0063381887394174915\n",
      "0.003763542423047297\n"
     ]
    }
   ],
   "source": [
    "import warnings\n",
    "warnings.simplefilter(action='ignore', category=FutureWarning)\n",
    "\n",
    "from server.lib.BackTest import BackTest\n",
    "from server.lib.models import BaseModel\n",
    "from server.prebuilt.portfolioAllocations import PercentagePortfolioAllocation\n",
    "from server.prebuilt.riskManagement import TakeProfitStopLoss\n",
    "from server.custom.equitiesSelection import SpacsSelectionModel\n",
    "from server.custom.strategies import SpacSignals\n",
    "\n",
    "class SpacInsiderLogisticRegressionModel(BaseModel):\n",
    "    def __init__(self):\n",
    "        super().__init__()\n",
    "        self.start_date = \"2022-08-07\"\n",
    "        self.end_date = \"2024-08-07\"\n",
    "        self.model_name = 'SPAC Insider Logistic Regression with Stop Loss 20 Model'\n",
    "        self.equity_selection_management = SpacsSelectionModel(40, 5, 'Short', self.start_date, self.end_date)\n",
    "        self.portfolio_management = PercentagePortfolioAllocation(1000000, 10)\n",
    "        self.alpha_model = SpacSignals()\n",
    "        self.risk_control = TakeProfitStopLoss(100, 20)\n",
    "\n",
    "Test = BackTest(SpacInsiderLogisticRegressionModel)\n",
    "Test.run()"
   ]
  },
  {
   "cell_type": "code",
   "execution_count": 8,
   "metadata": {},
   "outputs": [
    {
     "name": "stderr",
     "output_type": "stream",
     "text": [
      "[*                      3%                       ]  2 of 70 completed"
     ]
    },
    {
     "name": "stderr",
     "output_type": "stream",
     "text": [
      "[*********************100%***********************]  70 of 70 completed\n"
     ]
    },
    {
     "name": "stdout",
     "output_type": "stream",
     "text": [
      "0.006239052025253428\n",
      "0.003755509631031672\n"
     ]
    }
   ],
   "source": [
    "import warnings\n",
    "warnings.simplefilter(action='ignore', category=FutureWarning)\n",
    "\n",
    "from server.lib.BackTest import BackTest\n",
    "from server.lib.models import BaseModel\n",
    "from server.prebuilt.portfolioAllocations import PercentagePortfolioAllocation\n",
    "from server.prebuilt.riskManagement import TakeProfitStopLoss\n",
    "from server.custom.equitiesSelection import SpacsSelectionModel\n",
    "from server.custom.strategies import SpacSignals\n",
    "\n",
    "class SpacInsiderLogisticRegressionModel(BaseModel):\n",
    "    def __init__(self):\n",
    "        super().__init__()\n",
    "        self.start_date = \"2022-08-07\"\n",
    "        self.end_date = \"2024-08-07\"\n",
    "        self.model_name = 'SPAC Insider Logistic Regression with Stop Loss 10 Model'\n",
    "        self.equity_selection_management = SpacsSelectionModel(40, 5, 'Short', self.start_date, self.end_date)\n",
    "        self.portfolio_management = PercentagePortfolioAllocation(1000000, 10)\n",
    "        self.alpha_model = SpacSignals()\n",
    "        self.risk_control = TakeProfitStopLoss(100, 10)\n",
    "\n",
    "Test = BackTest(SpacInsiderLogisticRegressionModel)\n",
    "Test.run()"
   ]
  },
  {
   "cell_type": "code",
   "execution_count": 9,
   "metadata": {},
   "outputs": [
    {
     "name": "stderr",
     "output_type": "stream",
     "text": [
      "[*********************100%***********************]  70 of 70 completed\n"
     ]
    },
    {
     "name": "stdout",
     "output_type": "stream",
     "text": [
      "0.006943175014047314\n",
      "0.00461451042038434\n"
     ]
    }
   ],
   "source": [
    "import warnings\n",
    "warnings.simplefilter(action='ignore', category=FutureWarning)\n",
    "\n",
    "from server.lib.BackTest import BackTest\n",
    "from server.lib.models import BaseModel\n",
    "from server.prebuilt.portfolioAllocations import PercentagePortfolioAllocation\n",
    "from server.prebuilt.riskManagement import TraillingStopLoss\n",
    "from server.custom.equitiesSelection import SpacsSelectionModel\n",
    "from server.custom.strategies import SpacSignals\n",
    "\n",
    "class SpacInsiderLogisticRegressionModel(BaseModel):\n",
    "    def __init__(self):\n",
    "        super().__init__()\n",
    "        self.start_date = \"2022-08-07\"\n",
    "        self.end_date = \"2024-08-07\"\n",
    "        self.model_name = 'SPAC Insider Logistic Regression with Trailling Stop Loss 20 Model'\n",
    "        self.equity_selection_management = SpacsSelectionModel(40, 5, 'Short', self.start_date, self.end_date)\n",
    "        self.portfolio_management = PercentagePortfolioAllocation(1000000, 10)\n",
    "        self.alpha_model = SpacSignals()\n",
    "        self.risk_control = TraillingStopLoss(20)\n",
    "\n",
    "Test = BackTest(SpacInsiderLogisticRegressionModel)\n",
    "Test.run()"
   ]
  },
  {
   "cell_type": "code",
   "execution_count": 10,
   "metadata": {},
   "outputs": [
    {
     "name": "stderr",
     "output_type": "stream",
     "text": [
      "[*********************100%***********************]  70 of 70 completed\n"
     ]
    },
    {
     "name": "stdout",
     "output_type": "stream",
     "text": [
      "0.004870736158417341\n",
      "0.0026952027738360914\n"
     ]
    }
   ],
   "source": [
    "import warnings\n",
    "warnings.simplefilter(action='ignore', category=FutureWarning)\n",
    "\n",
    "from server.lib.BackTest import BackTest\n",
    "from server.lib.models import BaseModel\n",
    "from server.prebuilt.portfolioAllocations import PercentagePortfolioAllocation\n",
    "from server.prebuilt.riskManagement import TraillingStopLoss\n",
    "from server.custom.equitiesSelection import SpacsSelectionModel\n",
    "from server.custom.strategies import SpacSignals\n",
    "\n",
    "class SpacInsiderLogisticRegressionModel(BaseModel):\n",
    "    def __init__(self):\n",
    "        super().__init__()\n",
    "        self.start_date = \"2022-08-07\"\n",
    "        self.end_date = \"2024-08-07\"\n",
    "        self.model_name = 'SPAC Insider Logistic Regression with Trailling Stop Loss 10 Model'\n",
    "        self.equity_selection_management = SpacsSelectionModel(40, 5, 'Short', self.start_date, self.end_date)\n",
    "        self.portfolio_management = PercentagePortfolioAllocation(1000000, 10)\n",
    "        self.alpha_model = SpacSignals()\n",
    "        self.risk_control = TraillingStopLoss(10)\n",
    "\n",
    "Test = BackTest(SpacInsiderLogisticRegressionModel)\n",
    "Test.run()"
   ]
  },
  {
   "cell_type": "code",
   "execution_count": 11,
   "metadata": {},
   "outputs": [
    {
     "name": "stderr",
     "output_type": "stream",
     "text": [
      "[*********************100%***********************]  70 of 70 completed\n"
     ]
    },
    {
     "name": "stdout",
     "output_type": "stream",
     "text": [
      "0.0044263964511997\n",
      "0.003001310229830933\n"
     ]
    }
   ],
   "source": [
    "import warnings\n",
    "warnings.simplefilter(action='ignore', category=FutureWarning)\n",
    "\n",
    "from server.lib.BackTest import BackTest\n",
    "from server.lib.models import BaseModel\n",
    "from server.prebuilt.portfolioAllocations import PercentagePortfolioAllocation\n",
    "from server.prebuilt.riskManagement import TraillingStopLoss\n",
    "from server.prebuilt.hedgingSystem import BaseHedgeFeature\n",
    "from server.custom.equitiesSelection import SpacsSelectionModel\n",
    "from server.custom.strategies import SpacSignals\n",
    "\n",
    "class SpacInsiderLogisticRegressionModel(BaseModel):\n",
    "    def __init__(self):\n",
    "        super().__init__()\n",
    "        self.start_date = \"2022-08-07\"\n",
    "        self.end_date = \"2024-08-07\"\n",
    "        self.model_name = 'SPAC Insider Logistic Regression with Trailling Stop Loss 20 with Hedging Model'\n",
    "        self.equity_selection_management = SpacsSelectionModel(40, 5, 'Short', self.start_date, self.end_date)\n",
    "        self.portfolio_management = PercentagePortfolioAllocation(1000000, 10)\n",
    "        self.alpha_model = SpacSignals()\n",
    "        self.risk_control = TraillingStopLoss(20)\n",
    "        self.hedging_system = BaseHedgeFeature('QQQ')\n",
    "\n",
    "Test = BackTest(SpacInsiderLogisticRegressionModel)\n",
    "Test.run()"
   ]
  },
  {
   "cell_type": "code",
   "execution_count": 12,
   "metadata": {},
   "outputs": [
    {
     "name": "stderr",
     "output_type": "stream",
     "text": [
      "[*********************100%***********************]  70 of 70 completed\n"
     ]
    },
    {
     "name": "stdout",
     "output_type": "stream",
     "text": [
      "0.0028947201284282883\n",
      "0.0016274554473900324\n"
     ]
    }
   ],
   "source": [
    "import warnings\n",
    "warnings.simplefilter(action='ignore', category=FutureWarning)\n",
    "\n",
    "from server.lib.BackTest import BackTest\n",
    "from server.lib.models import BaseModel\n",
    "from server.prebuilt.portfolioAllocations import PercentagePortfolioAllocation\n",
    "from server.prebuilt.riskManagement import TraillingStopLoss\n",
    "from server.prebuilt.hedgingSystem import BaseHedgeFeature\n",
    "from server.custom.equitiesSelection import SpacsSelectionModel\n",
    "from server.custom.strategies import SpacSignals\n",
    "\n",
    "class SpacInsiderLogisticRegressionModel(BaseModel):\n",
    "    def __init__(self):\n",
    "        super().__init__()\n",
    "        self.start_date = \"2022-08-07\"\n",
    "        self.end_date = \"2024-08-07\"\n",
    "        self.model_name = 'SPAC Insider Logistic Regression with Trailling Stop Loss 10 with Hedging Model'\n",
    "        self.equity_selection_management = SpacsSelectionModel(40, 5, 'Short', self.start_date, self.end_date)\n",
    "        self.portfolio_management = PercentagePortfolioAllocation(1000000, 10)\n",
    "        self.alpha_model = SpacSignals()\n",
    "        self.risk_control = TraillingStopLoss(10)\n",
    "        self.hedging_system = BaseHedgeFeature('QQQ')\n",
    "\n",
    "Test = BackTest(SpacInsiderLogisticRegressionModel)\n",
    "Test.run()"
   ]
  },
  {
   "cell_type": "markdown",
   "metadata": {},
   "source": []
  }
 ],
 "metadata": {
  "kernelspec": {
   "display_name": ".venv",
   "language": "python",
   "name": "python3"
  },
  "language_info": {
   "codemirror_mode": {
    "name": "ipython",
    "version": 3
   },
   "file_extension": ".py",
   "mimetype": "text/x-python",
   "name": "python",
   "nbconvert_exporter": "python",
   "pygments_lexer": "ipython3",
   "version": "3.10.4"
  }
 },
 "nbformat": 4,
 "nbformat_minor": 2
}
