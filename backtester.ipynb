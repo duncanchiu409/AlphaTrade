{
 "cells": [
  {
   "cell_type": "code",
   "execution_count": 1,
   "metadata": {},
   "outputs": [
    {
     "name": "stderr",
     "output_type": "stream",
     "text": [
      "[*********************100%***********************]  70 of 70 completed\n"
     ]
    },
    {
     "name": "stdout",
     "output_type": "stream",
     "text": [
      "0.008585943281872288\n",
      "0.005831881383802343\n"
     ]
    }
   ],
   "source": [
    "import warnings\n",
    "warnings.simplefilter(action='ignore', category=FutureWarning)\n",
    "\n",
    "from lib.BackTest import BackTest\n",
    "from lib.models import BaseModel\n",
    "from prebuilt.portfolioAllocations import PercentagePortfolioAllocation\n",
    "from prebuilt.riskManagement import TakeProfitStopLoss\n",
    "from custom.equitiesSelection import SpacsSelectionModel\n",
    "from custom.strategies import SpacSignals\n",
    "\n",
    "class SpacInsiderLogisticRegressionModel(BaseModel):\n",
    "    def __init__(self):\n",
    "        super().__init__()\n",
    "        self.start_date = \"2022-08-07\"\n",
    "        self.end_date = \"2024-08-07\"\n",
    "        self.model_name = 'SPAC Insider Logistic Regression Model'\n",
    "        self.equity_selection_management = SpacsSelectionModel(40, 5, 'Short', self.start_date, self.end_date)\n",
    "        self.portfolio_management = PercentagePortfolioAllocation(1000000, 10)\n",
    "        self.alpha_model = SpacSignals()\n",
    "        # self.risk_control = TakeProfitStopLoss(100, 20)\n",
    "\n",
    "Test = BackTest(SpacInsiderLogisticRegressionModel)\n",
    "Test.run()"
   ]
  },
  {
   "cell_type": "code",
   "execution_count": 8,
   "metadata": {},
   "outputs": [
    {
     "name": "stderr",
     "output_type": "stream",
     "text": [
      "[*********************100%***********************]  70 of 70 completed\n",
      "\n",
      "1 Failed download:\n",
      "['AGBA']: YFPricesMissingError('$%ticker%: possibly delisted; no price data found  (1d 2022-08-07 -> 2024-08-07)')\n"
     ]
    },
    {
     "ename": "KeyboardInterrupt",
     "evalue": "",
     "output_type": "error",
     "traceback": [
      "\u001b[0;31m---------------------------------------------------------------------------\u001b[0m",
      "\u001b[0;31mKeyboardInterrupt\u001b[0m                         Traceback (most recent call last)",
      "Cell \u001b[0;32mIn[8], line 23\u001b[0m\n\u001b[1;32m     20\u001b[0m         \u001b[38;5;28mself\u001b[39m\u001b[38;5;241m.\u001b[39mrisk_control \u001b[38;5;241m=\u001b[39m TakeProfitStopLoss(\u001b[38;5;241m100\u001b[39m, \u001b[38;5;241m10\u001b[39m)\n\u001b[1;32m     22\u001b[0m Test \u001b[38;5;241m=\u001b[39m BackTest(SpacInsiderLogisticRegressionModel)\n\u001b[0;32m---> 23\u001b[0m \u001b[43mTest\u001b[49m\u001b[38;5;241;43m.\u001b[39;49m\u001b[43mrun\u001b[49m\u001b[43m(\u001b[49m\u001b[43m)\u001b[49m\n",
      "File \u001b[0;32m~/Documents/github/AlphaTrade/server/lib/BackTest.py:327\u001b[0m, in \u001b[0;36mBackTest.run\u001b[0;34m(self)\u001b[0m\n\u001b[1;32m    324\u001b[0m     \u001b[38;5;28mself\u001b[39m\u001b[38;5;241m.\u001b[39menter_equity(row, allocation)\n\u001b[1;32m    326\u001b[0m \u001b[38;5;66;03m# Process Risk Management System\u001b[39;00m\n\u001b[0;32m--> 327\u001b[0m \u001b[38;5;28;01mif\u001b[39;00m \u001b[38;5;28;43mself\u001b[39;49m\u001b[38;5;241;43m.\u001b[39;49m\u001b[43mcheck\u001b[49m\u001b[43m(\u001b[49m\u001b[43mrow\u001b[49m\u001b[43m)\u001b[49m:\n\u001b[1;32m    328\u001b[0m     release \u001b[38;5;241m=\u001b[39m \u001b[38;5;28mself\u001b[39m\u001b[38;5;241m.\u001b[39mtrigger(row)\n\u001b[1;32m    329\u001b[0m     \u001b[38;5;28mself\u001b[39m\u001b[38;5;241m.\u001b[39mmodel\u001b[38;5;241m.\u001b[39mportfolio_management\u001b[38;5;241m.\u001b[39mrelease(release)\n",
      "File \u001b[0;32m~/Documents/github/AlphaTrade/server/lib/BackTest.py:110\u001b[0m, in \u001b[0;36mBackTest.check\u001b[0;34m(self, row)\u001b[0m\n\u001b[1;32m    108\u001b[0m \u001b[38;5;28;01mdef\u001b[39;00m \u001b[38;5;21mcheck\u001b[39m(\u001b[38;5;28mself\u001b[39m, row):\n\u001b[1;32m    109\u001b[0m     \u001b[38;5;66;03m# Return a boolean array of tradelog matching both the equity name and trade type\u001b[39;00m\n\u001b[0;32m--> 110\u001b[0m     i \u001b[38;5;241m=\u001b[39m \u001b[38;5;28;43mself\u001b[39;49m\u001b[38;5;241;43m.\u001b[39;49m\u001b[43mload_rows\u001b[49m\u001b[43m(\u001b[49m\u001b[43mrow\u001b[49m\u001b[43m)\u001b[49m\n\u001b[1;32m    111\u001b[0m     \u001b[38;5;28;01mreturn\u001b[39;00m \u001b[38;5;28mself\u001b[39m\u001b[38;5;241m.\u001b[39mmodel\u001b[38;5;241m.\u001b[39mrisk_control\u001b[38;5;241m.\u001b[39mcheck(\u001b[38;5;28mself\u001b[39m\u001b[38;5;241m.\u001b[39mtradelog[i], row)\n",
      "File \u001b[0;32m~/Documents/github/AlphaTrade/server/lib/BackTest.py:45\u001b[0m, in \u001b[0;36mBackTest.load_rows\u001b[0;34m(self, row)\u001b[0m\n\u001b[1;32m     44\u001b[0m \u001b[38;5;28;01mdef\u001b[39;00m \u001b[38;5;21mload_rows\u001b[39m(\u001b[38;5;28mself\u001b[39m, row):\n\u001b[0;32m---> 45\u001b[0m     \u001b[38;5;28;01mreturn\u001b[39;00m np\u001b[38;5;241m.\u001b[39mlogical_and(\u001b[38;5;28;43mself\u001b[39;49m\u001b[38;5;241;43m.\u001b[39;49m\u001b[43mtradelog\u001b[49m\u001b[43m[\u001b[49m\u001b[38;5;124;43m'\u001b[39;49m\u001b[38;5;124;43mEquity Name\u001b[39;49m\u001b[38;5;124;43m'\u001b[39;49m\u001b[43m]\u001b[49m \u001b[38;5;241m==\u001b[39m row[\u001b[38;5;124m'\u001b[39m\u001b[38;5;124mEquity Name\u001b[39m\u001b[38;5;124m'\u001b[39m], \u001b[38;5;28mself\u001b[39m\u001b[38;5;241m.\u001b[39mtradelog[\u001b[38;5;124m'\u001b[39m\u001b[38;5;124mTrade\u001b[39m\u001b[38;5;124m'\u001b[39m] \u001b[38;5;241m==\u001b[39m row[\u001b[38;5;124m'\u001b[39m\u001b[38;5;124mTrade\u001b[39m\u001b[38;5;124m'\u001b[39m])\n",
      "File \u001b[0;32m~/Documents/github/AlphaTrade/.venv/lib/python3.10/site-packages/pandas/core/frame.py:4078\u001b[0m, in \u001b[0;36mDataFrame.__getitem__\u001b[0;34m(self, key)\u001b[0m\n\u001b[1;32m   4071\u001b[0m \u001b[38;5;66;03m# GH#45316 Return view if key is not duplicated\u001b[39;00m\n\u001b[1;32m   4072\u001b[0m \u001b[38;5;66;03m# Only use drop_duplicates with duplicates for performance\u001b[39;00m\n\u001b[1;32m   4073\u001b[0m \u001b[38;5;28;01mif\u001b[39;00m \u001b[38;5;129;01mnot\u001b[39;00m is_mi \u001b[38;5;129;01mand\u001b[39;00m (\n\u001b[1;32m   4074\u001b[0m     \u001b[38;5;28mself\u001b[39m\u001b[38;5;241m.\u001b[39mcolumns\u001b[38;5;241m.\u001b[39mis_unique\n\u001b[1;32m   4075\u001b[0m     \u001b[38;5;129;01mand\u001b[39;00m key \u001b[38;5;129;01min\u001b[39;00m \u001b[38;5;28mself\u001b[39m\u001b[38;5;241m.\u001b[39mcolumns\n\u001b[1;32m   4076\u001b[0m     \u001b[38;5;129;01mor\u001b[39;00m key \u001b[38;5;129;01min\u001b[39;00m \u001b[38;5;28mself\u001b[39m\u001b[38;5;241m.\u001b[39mcolumns\u001b[38;5;241m.\u001b[39mdrop_duplicates(keep\u001b[38;5;241m=\u001b[39m\u001b[38;5;28;01mFalse\u001b[39;00m)\n\u001b[1;32m   4077\u001b[0m ):\n\u001b[0;32m-> 4078\u001b[0m     \u001b[38;5;28;01mreturn\u001b[39;00m \u001b[38;5;28;43mself\u001b[39;49m\u001b[38;5;241;43m.\u001b[39;49m\u001b[43m_get_item_cache\u001b[49m\u001b[43m(\u001b[49m\u001b[43mkey\u001b[49m\u001b[43m)\u001b[49m\n\u001b[1;32m   4080\u001b[0m \u001b[38;5;28;01melif\u001b[39;00m is_mi \u001b[38;5;129;01mand\u001b[39;00m \u001b[38;5;28mself\u001b[39m\u001b[38;5;241m.\u001b[39mcolumns\u001b[38;5;241m.\u001b[39mis_unique \u001b[38;5;129;01mand\u001b[39;00m key \u001b[38;5;129;01min\u001b[39;00m \u001b[38;5;28mself\u001b[39m\u001b[38;5;241m.\u001b[39mcolumns:\n\u001b[1;32m   4081\u001b[0m     \u001b[38;5;28;01mreturn\u001b[39;00m \u001b[38;5;28mself\u001b[39m\u001b[38;5;241m.\u001b[39m_getitem_multilevel(key)\n",
      "File \u001b[0;32m~/Documents/github/AlphaTrade/.venv/lib/python3.10/site-packages/pandas/core/frame.py:4639\u001b[0m, in \u001b[0;36mDataFrame._get_item_cache\u001b[0;34m(self, item)\u001b[0m\n\u001b[1;32m   4634\u001b[0m \u001b[38;5;28;01mif\u001b[39;00m res \u001b[38;5;129;01mis\u001b[39;00m \u001b[38;5;28;01mNone\u001b[39;00m:\n\u001b[1;32m   4635\u001b[0m     \u001b[38;5;66;03m# All places that call _get_item_cache have unique columns,\u001b[39;00m\n\u001b[1;32m   4636\u001b[0m     \u001b[38;5;66;03m#  pending resolution of GH#33047\u001b[39;00m\n\u001b[1;32m   4638\u001b[0m     loc \u001b[38;5;241m=\u001b[39m \u001b[38;5;28mself\u001b[39m\u001b[38;5;241m.\u001b[39mcolumns\u001b[38;5;241m.\u001b[39mget_loc(item)\n\u001b[0;32m-> 4639\u001b[0m     res \u001b[38;5;241m=\u001b[39m \u001b[38;5;28;43mself\u001b[39;49m\u001b[38;5;241;43m.\u001b[39;49m\u001b[43m_ixs\u001b[49m\u001b[43m(\u001b[49m\u001b[43mloc\u001b[49m\u001b[43m,\u001b[49m\u001b[43m \u001b[49m\u001b[43maxis\u001b[49m\u001b[38;5;241;43m=\u001b[39;49m\u001b[38;5;241;43m1\u001b[39;49m\u001b[43m)\u001b[49m\n\u001b[1;32m   4641\u001b[0m     cache[item] \u001b[38;5;241m=\u001b[39m res\n\u001b[1;32m   4643\u001b[0m     \u001b[38;5;66;03m# for a chain\u001b[39;00m\n",
      "File \u001b[0;32m~/Documents/github/AlphaTrade/.venv/lib/python3.10/site-packages/pandas/core/frame.py:4010\u001b[0m, in \u001b[0;36mDataFrame._ixs\u001b[0;34m(self, i, axis)\u001b[0m\n\u001b[1;32m   4006\u001b[0m \u001b[38;5;66;03m# icol\u001b[39;00m\n\u001b[1;32m   4007\u001b[0m \u001b[38;5;28;01melse\u001b[39;00m:\n\u001b[1;32m   4008\u001b[0m     label \u001b[38;5;241m=\u001b[39m \u001b[38;5;28mself\u001b[39m\u001b[38;5;241m.\u001b[39mcolumns[i]\n\u001b[0;32m-> 4010\u001b[0m     col_mgr \u001b[38;5;241m=\u001b[39m \u001b[38;5;28;43mself\u001b[39;49m\u001b[38;5;241;43m.\u001b[39;49m\u001b[43m_mgr\u001b[49m\u001b[38;5;241;43m.\u001b[39;49m\u001b[43miget\u001b[49m\u001b[43m(\u001b[49m\u001b[43mi\u001b[49m\u001b[43m)\u001b[49m\n\u001b[1;32m   4011\u001b[0m     result \u001b[38;5;241m=\u001b[39m \u001b[38;5;28mself\u001b[39m\u001b[38;5;241m.\u001b[39m_box_col_values(col_mgr, i)\n\u001b[1;32m   4013\u001b[0m     \u001b[38;5;66;03m# this is a cached value, mark it so\u001b[39;00m\n",
      "File \u001b[0;32m~/Documents/github/AlphaTrade/.venv/lib/python3.10/site-packages/pandas/core/internals/managers.py:1017\u001b[0m, in \u001b[0;36mBlockManager.iget\u001b[0;34m(self, i, track_ref)\u001b[0m\n\u001b[1;32m   1013\u001b[0m \u001b[38;5;250m\u001b[39m\u001b[38;5;124;03m\"\"\"\u001b[39;00m\n\u001b[1;32m   1014\u001b[0m \u001b[38;5;124;03mReturn the data as a SingleBlockManager.\u001b[39;00m\n\u001b[1;32m   1015\u001b[0m \u001b[38;5;124;03m\"\"\"\u001b[39;00m\n\u001b[1;32m   1016\u001b[0m block \u001b[38;5;241m=\u001b[39m \u001b[38;5;28mself\u001b[39m\u001b[38;5;241m.\u001b[39mblocks[\u001b[38;5;28mself\u001b[39m\u001b[38;5;241m.\u001b[39mblknos[i]]\n\u001b[0;32m-> 1017\u001b[0m values \u001b[38;5;241m=\u001b[39m \u001b[43mblock\u001b[49m\u001b[38;5;241;43m.\u001b[39;49m\u001b[43miget\u001b[49m\u001b[43m(\u001b[49m\u001b[38;5;28;43mself\u001b[39;49m\u001b[38;5;241;43m.\u001b[39;49m\u001b[43mblklocs\u001b[49m\u001b[43m[\u001b[49m\u001b[43mi\u001b[49m\u001b[43m]\u001b[49m\u001b[43m)\u001b[49m\n\u001b[1;32m   1019\u001b[0m \u001b[38;5;66;03m# shortcut for select a single-dim from a 2-dim BM\u001b[39;00m\n\u001b[1;32m   1020\u001b[0m bp \u001b[38;5;241m=\u001b[39m BlockPlacement(\u001b[38;5;28mslice\u001b[39m(\u001b[38;5;241m0\u001b[39m, \u001b[38;5;28mlen\u001b[39m(values)))\n",
      "File \u001b[0;32m~/Documents/github/AlphaTrade/.venv/lib/python3.10/site-packages/pandas/core/internals/blocks.py:1253\u001b[0m, in \u001b[0;36mBlock.iget\u001b[0;34m(self, i)\u001b[0m\n\u001b[1;32m   1249\u001b[0m \u001b[38;5;129m@property\u001b[39m\n\u001b[1;32m   1250\u001b[0m \u001b[38;5;28;01mdef\u001b[39;00m \u001b[38;5;21mshape\u001b[39m(\u001b[38;5;28mself\u001b[39m) \u001b[38;5;241m-\u001b[39m\u001b[38;5;241m>\u001b[39m Shape:\n\u001b[1;32m   1251\u001b[0m     \u001b[38;5;28;01mreturn\u001b[39;00m \u001b[38;5;28mself\u001b[39m\u001b[38;5;241m.\u001b[39mvalues\u001b[38;5;241m.\u001b[39mshape\n\u001b[0;32m-> 1253\u001b[0m \u001b[38;5;28;01mdef\u001b[39;00m \u001b[38;5;21miget\u001b[39m(\u001b[38;5;28mself\u001b[39m, i: \u001b[38;5;28mint\u001b[39m \u001b[38;5;241m|\u001b[39m \u001b[38;5;28mtuple\u001b[39m[\u001b[38;5;28mint\u001b[39m, \u001b[38;5;28mint\u001b[39m] \u001b[38;5;241m|\u001b[39m \u001b[38;5;28mtuple\u001b[39m[\u001b[38;5;28mslice\u001b[39m, \u001b[38;5;28mint\u001b[39m]) \u001b[38;5;241m-\u001b[39m\u001b[38;5;241m>\u001b[39m np\u001b[38;5;241m.\u001b[39mndarray:\n\u001b[1;32m   1254\u001b[0m     \u001b[38;5;66;03m# In the case where we have a tuple[slice, int], the slice will always\u001b[39;00m\n\u001b[1;32m   1255\u001b[0m     \u001b[38;5;66;03m#  be slice(None)\u001b[39;00m\n\u001b[1;32m   1256\u001b[0m     \u001b[38;5;66;03m# Note: only reached with self.ndim == 2\u001b[39;00m\n\u001b[1;32m   1257\u001b[0m     \u001b[38;5;66;03m# Invalid index type \"Union[int, Tuple[int, int], Tuple[slice, int]]\"\u001b[39;00m\n\u001b[1;32m   1258\u001b[0m     \u001b[38;5;66;03m# for \"Union[ndarray[Any, Any], ExtensionArray]\"; expected type\u001b[39;00m\n\u001b[1;32m   1259\u001b[0m     \u001b[38;5;66;03m# \"Union[int, integer[Any]]\"\u001b[39;00m\n\u001b[1;32m   1260\u001b[0m     \u001b[38;5;28;01mreturn\u001b[39;00m \u001b[38;5;28mself\u001b[39m\u001b[38;5;241m.\u001b[39mvalues[i]  \u001b[38;5;66;03m# type: ignore[index]\u001b[39;00m\n\u001b[1;32m   1262\u001b[0m \u001b[38;5;28;01mdef\u001b[39;00m \u001b[38;5;21m_slice\u001b[39m(\n\u001b[1;32m   1263\u001b[0m     \u001b[38;5;28mself\u001b[39m, slicer: \u001b[38;5;28mslice\u001b[39m \u001b[38;5;241m|\u001b[39m npt\u001b[38;5;241m.\u001b[39mNDArray[np\u001b[38;5;241m.\u001b[39mbool_] \u001b[38;5;241m|\u001b[39m npt\u001b[38;5;241m.\u001b[39mNDArray[np\u001b[38;5;241m.\u001b[39mintp]\n\u001b[1;32m   1264\u001b[0m ) \u001b[38;5;241m-\u001b[39m\u001b[38;5;241m>\u001b[39m ArrayLike:\n",
      "\u001b[0;31mKeyboardInterrupt\u001b[0m: "
     ]
    }
   ],
   "source": [
    "import warnings\n",
    "warnings.simplefilter(action='ignore', category=FutureWarning)\n",
    "\n",
    "from server.lib.BackTest import BackTest\n",
    "from server.lib.models import BaseModel\n",
    "from server.prebuilt.portfolioAllocations import PercentagePortfolioAllocation\n",
    "from server.prebuilt.riskManagement import TakeProfitStopLoss\n",
    "from server.custom.equitiesSelection import SpacsSelectionModel\n",
    "from server.custom.strategies import SpacSignals\n",
    "\n",
    "class SpacInsiderLogisticRegressionModel(BaseModel):\n",
    "    def __init__(self):\n",
    "        super().__init__()\n",
    "        self.start_date = \"2022-08-07\"\n",
    "        self.end_date = \"2024-08-07\"\n",
    "        self.model_name = 'SPAC Insider Logistic Regression with Stop Loss 10 Model'\n",
    "        self.equity_selection_management = SpacsSelectionModel(40, 5, 'Short', self.start_date, self.end_date)\n",
    "        self.portfolio_management = PercentagePortfolioAllocation(1000000, 10)\n",
    "        self.alpha_model = SpacSignals()\n",
    "        self.risk_control = TakeProfitStopLoss(100, 10)\n",
    "\n",
    "Test = BackTest(SpacInsiderLogisticRegressionModel)\n",
    "Test.run()"
   ]
  },
  {
   "cell_type": "code",
   "execution_count": 9,
   "metadata": {},
   "outputs": [
    {
     "name": "stderr",
     "output_type": "stream",
     "text": [
      "[*********************100%***********************]  70 of 70 completed\n"
     ]
    },
    {
     "name": "stdout",
     "output_type": "stream",
     "text": [
      "0.006943175014047314\n",
      "0.00461451042038434\n"
     ]
    }
   ],
   "source": [
    "import warnings\n",
    "warnings.simplefilter(action='ignore', category=FutureWarning)\n",
    "\n",
    "from server.lib.BackTest import BackTest\n",
    "from server.lib.models import BaseModel\n",
    "from server.prebuilt.portfolioAllocations import PercentagePortfolioAllocation\n",
    "from server.prebuilt.riskManagement import TraillingStopLoss\n",
    "from server.custom.equitiesSelection import SpacsSelectionModel\n",
    "from server.custom.strategies import SpacSignals\n",
    "\n",
    "class SpacInsiderLogisticRegressionModel(BaseModel):\n",
    "    def __init__(self):\n",
    "        super().__init__()\n",
    "        self.start_date = \"2022-08-07\"\n",
    "        self.end_date = \"2024-08-07\"\n",
    "        self.model_name = 'SPAC Insider Logistic Regression with Trailling Stop Loss 20 Model'\n",
    "        self.equity_selection_management = SpacsSelectionModel(40, 5, 'Short', self.start_date, self.end_date)\n",
    "        self.portfolio_management = PercentagePortfolioAllocation(1000000, 10)\n",
    "        self.alpha_model = SpacSignals()\n",
    "        self.risk_control = TraillingStopLoss(20)\n",
    "\n",
    "Test = BackTest(SpacInsiderLogisticRegressionModel)\n",
    "Test.run()"
   ]
  },
  {
   "cell_type": "code",
   "execution_count": 10,
   "metadata": {},
   "outputs": [
    {
     "name": "stderr",
     "output_type": "stream",
     "text": [
      "[*********************100%***********************]  70 of 70 completed\n"
     ]
    },
    {
     "name": "stdout",
     "output_type": "stream",
     "text": [
      "0.004870736158417341\n",
      "0.0026952027738360914\n"
     ]
    }
   ],
   "source": [
    "import warnings\n",
    "warnings.simplefilter(action='ignore', category=FutureWarning)\n",
    "\n",
    "from server.lib.BackTest import BackTest\n",
    "from server.lib.models import BaseModel\n",
    "from server.prebuilt.portfolioAllocations import PercentagePortfolioAllocation\n",
    "from server.prebuilt.riskManagement import TraillingStopLoss\n",
    "from server.custom.equitiesSelection import SpacsSelectionModel\n",
    "from server.custom.strategies import SpacSignals\n",
    "\n",
    "class SpacInsiderLogisticRegressionModel(BaseModel):\n",
    "    def __init__(self):\n",
    "        super().__init__()\n",
    "        self.start_date = \"2022-08-07\"\n",
    "        self.end_date = \"2024-08-07\"\n",
    "        self.model_name = 'SPAC Insider Logistic Regression with Trailling Stop Loss 10 Model'\n",
    "        self.equity_selection_management = SpacsSelectionModel(40, 5, 'Short', self.start_date, self.end_date)\n",
    "        self.portfolio_management = PercentagePortfolioAllocation(1000000, 10)\n",
    "        self.alpha_model = SpacSignals()\n",
    "        self.risk_control = TraillingStopLoss(10)\n",
    "\n",
    "Test = BackTest(SpacInsiderLogisticRegressionModel)\n",
    "Test.run()"
   ]
  },
  {
   "cell_type": "code",
   "execution_count": 11,
   "metadata": {},
   "outputs": [
    {
     "name": "stderr",
     "output_type": "stream",
     "text": [
      "[*********************100%***********************]  70 of 70 completed\n"
     ]
    },
    {
     "name": "stdout",
     "output_type": "stream",
     "text": [
      "0.0044263964511997\n",
      "0.003001310229830933\n"
     ]
    }
   ],
   "source": [
    "import warnings\n",
    "warnings.simplefilter(action='ignore', category=FutureWarning)\n",
    "\n",
    "from server.lib.BackTest import BackTest\n",
    "from server.lib.models import BaseModel\n",
    "from server.prebuilt.portfolioAllocations import PercentagePortfolioAllocation\n",
    "from server.prebuilt.riskManagement import TraillingStopLoss\n",
    "from server.prebuilt.hedgingSystem import BaseHedgeFeature\n",
    "from server.custom.equitiesSelection import SpacsSelectionModel\n",
    "from server.custom.strategies import SpacSignals\n",
    "\n",
    "class SpacInsiderLogisticRegressionModel(BaseModel):\n",
    "    def __init__(self):\n",
    "        super().__init__()\n",
    "        self.start_date = \"2022-08-07\"\n",
    "        self.end_date = \"2024-08-07\"\n",
    "        self.model_name = 'SPAC Insider Logistic Regression with Trailling Stop Loss 20 with Hedging Model'\n",
    "        self.equity_selection_management = SpacsSelectionModel(40, 5, 'Short', self.start_date, self.end_date)\n",
    "        self.portfolio_management = PercentagePortfolioAllocation(1000000, 10)\n",
    "        self.alpha_model = SpacSignals()\n",
    "        self.risk_control = TraillingStopLoss(20)\n",
    "        self.hedging_system = BaseHedgeFeature('QQQ')\n",
    "\n",
    "Test = BackTest(SpacInsiderLogisticRegressionModel)\n",
    "Test.run()"
   ]
  },
  {
   "cell_type": "code",
   "execution_count": 12,
   "metadata": {},
   "outputs": [
    {
     "name": "stderr",
     "output_type": "stream",
     "text": [
      "[*********************100%***********************]  70 of 70 completed\n"
     ]
    },
    {
     "name": "stdout",
     "output_type": "stream",
     "text": [
      "0.0028947201284282883\n",
      "0.0016274554473900324\n"
     ]
    }
   ],
   "source": [
    "import warnings\n",
    "warnings.simplefilter(action='ignore', category=FutureWarning)\n",
    "\n",
    "from server.lib.BackTest import BackTest\n",
    "from server.lib.models import BaseModel\n",
    "from server.prebuilt.portfolioAllocations import PercentagePortfolioAllocation\n",
    "from server.prebuilt.riskManagement import TraillingStopLoss\n",
    "from server.prebuilt.hedgingSystem import BaseHedgeFeature\n",
    "from server.custom.equitiesSelection import SpacsSelectionModel\n",
    "from server.custom.strategies import SpacSignals\n",
    "\n",
    "class SpacInsiderLogisticRegressionModel(BaseModel):\n",
    "    def __init__(self):\n",
    "        super().__init__()\n",
    "        self.start_date = \"2022-08-07\"\n",
    "        self.end_date = \"2024-08-07\"\n",
    "        self.model_name = 'SPAC Insider Logistic Regression with Trailling Stop Loss 10 with Hedging Model'\n",
    "        self.equity_selection_management = SpacsSelectionModel(40, 5, 'Short', self.start_date, self.end_date)\n",
    "        self.portfolio_management = PercentagePortfolioAllocation(1000000, 10)\n",
    "        self.alpha_model = SpacSignals()\n",
    "        self.risk_control = TraillingStopLoss(10)\n",
    "        self.hedging_system = BaseHedgeFeature('QQQ')\n",
    "\n",
    "Test = BackTest(SpacInsiderLogisticRegressionModel)\n",
    "Test.run()"
   ]
  },
  {
   "cell_type": "code",
   "execution_count": 3,
   "metadata": {},
   "outputs": [
    {
     "name": "stderr",
     "output_type": "stream",
     "text": [
      "[*********************100%***********************]  70 of 70 completed\n"
     ]
    },
    {
     "name": "stdout",
     "output_type": "stream",
     "text": [
      "0.011042316563898659\n",
      "0.007373908195456366\n"
     ]
    }
   ],
   "source": [
    "import warnings\n",
    "warnings.simplefilter(action='ignore', category=FutureWarning)\n",
    "\n",
    "from server.lib.BackTest import BackTest\n",
    "from server.lib.models import BaseModel\n",
    "from server.prebuilt.portfolioAllocations import PercentagePortfolioAllocation\n",
    "from server.prebuilt.riskManagement import TraillingStopLoss\n",
    "from server.custom.equitiesSelection import SpacsSelectionModel\n",
    "from server.custom.strategies import SpacSignals\n",
    "\n",
    "class SpacInsiderLogisticRegressionModel(BaseModel):\n",
    "    def __init__(self):\n",
    "        super().__init__()\n",
    "        self.start_date = \"2022-08-07\"\n",
    "        self.end_date = \"2024-08-07\"\n",
    "        self.model_name = 'SPAC Insider Logistic Regression with 20% Allocation with Trailling Stop Loss 20 Model'\n",
    "        self.equity_selection_management = SpacsSelectionModel(40, 5, 'Short', self.start_date, self.end_date)\n",
    "        self.portfolio_management = PercentagePortfolioAllocation(1000000, 20)\n",
    "        self.alpha_model = SpacSignals()\n",
    "        self.risk_control = TraillingStopLoss(20)\n",
    "\n",
    "Test = BackTest(SpacInsiderLogisticRegressionModel)\n",
    "Test.run()"
   ]
  },
  {
   "cell_type": "code",
   "execution_count": 1,
   "metadata": {},
   "outputs": [
    {
     "name": "stderr",
     "output_type": "stream",
     "text": [
      "[*********************100%***********************]  2 of 2 completed\n",
      "/home/duncan/Documents/github/AlphaTrade/server/lib/BackTest.py:64: FutureWarning: The behavior of DataFrame concatenation with empty or all-NA entries is deprecated. In a future version, this will no longer exclude empty or all-NA columns when determining the result dtypes. To retain the old behavior, exclude the relevant entries before the concat operation.\n",
      "  self.tradelog = pd.concat([self.tradelog, row], ignore_index=True)\n",
      "/home/duncan/Documents/github/AlphaTrade/server/lib/BackTest.py:339: FutureWarning: The behavior of DataFrame concatenation with empty or all-NA entries is deprecated. In a future version, this will no longer exclude empty or all-NA columns when determining the result dtypes. To retain the old behavior, exclude the relevant entries before the concat operation.\n",
      "  self.portfolio_records = pd.concat([self.portfolio_records, pd.DataFrame([self.portfolio_log])], ignore_index=True)\n"
     ]
    },
    {
     "name": "stdout",
     "output_type": "stream",
     "text": [
      "0.010287553956026579\n",
      "0.007013319470218266\n"
     ]
    },
    {
     "name": "stderr",
     "output_type": "stream",
     "text": [
      "/home/duncan/Documents/github/AlphaTrade/server/lib/BackTest.py:104: FutureWarning: The behavior of DataFrame concatenation with empty or all-NA entries is deprecated. In a future version, this will no longer exclude empty or all-NA columns when determining the result dtypes. To retain the old behavior, exclude the relevant entries before the concat operation.\n",
      "  self.trading_records = pd.concat([self.trading_records, log], ignore_index=True)\n"
     ]
    }
   ],
   "source": [
    "from server.lib.BackTest import BackTest\n",
    "from server.lib.models import BaseModel\n",
    "\n",
    "class BaseHoldNVDAModel(BaseModel):\n",
    "    def __init__(self):\n",
    "        super().__init__()\n",
    "        self.start_date = \"2022-08-07\"\n",
    "        self.end_date = \"2024-08-07\"\n",
    "        self.model_name = 'Base Hold Model'\n",
    "\n",
    "Test = BackTest(BaseHoldNVDAModel)\n",
    "Test.run()"
   ]
  },
  {
   "cell_type": "code",
   "execution_count": 1,
   "metadata": {},
   "outputs": [
    {
     "name": "stderr",
     "output_type": "stream",
     "text": [
      "[*********************100%***********************]  2 of 2 completed\n",
      "/home/duncan/Documents/github/AlphaTrade/server/lib/BackTest.py:339: FutureWarning: The behavior of DataFrame concatenation with empty or all-NA entries is deprecated. In a future version, this will no longer exclude empty or all-NA columns when determining the result dtypes. To retain the old behavior, exclude the relevant entries before the concat operation.\n",
      "  self.portfolio_records = pd.concat([self.portfolio_records, pd.DataFrame([self.portfolio_log])], ignore_index=True)\n",
      "/home/duncan/Documents/github/AlphaTrade/server/lib/BackTest.py:64: FutureWarning: The behavior of DataFrame concatenation with empty or all-NA entries is deprecated. In a future version, this will no longer exclude empty or all-NA columns when determining the result dtypes. To retain the old behavior, exclude the relevant entries before the concat operation.\n",
      "  self.tradelog = pd.concat([self.tradelog, row], ignore_index=True)\n",
      "/home/duncan/Documents/github/AlphaTrade/server/lib/BackTest.py:104: FutureWarning: The behavior of DataFrame concatenation with empty or all-NA entries is deprecated. In a future version, this will no longer exclude empty or all-NA columns when determining the result dtypes. To retain the old behavior, exclude the relevant entries before the concat operation.\n",
      "  self.trading_records = pd.concat([self.trading_records, log], ignore_index=True)\n",
      "/home/duncan/Documents/github/AlphaTrade/server/lib/BackTest.py:64: FutureWarning: The behavior of DataFrame concatenation with empty or all-NA entries is deprecated. In a future version, this will no longer exclude empty or all-NA columns when determining the result dtypes. To retain the old behavior, exclude the relevant entries before the concat operation.\n",
      "  self.tradelog = pd.concat([self.tradelog, row], ignore_index=True)\n"
     ]
    },
    {
     "name": "stdout",
     "output_type": "stream",
     "text": [
      "0.02666369618056481\n",
      "0.013982219828057115\n"
     ]
    },
    {
     "name": "stderr",
     "output_type": "stream",
     "text": [
      "/home/duncan/Documents/github/AlphaTrade/server/lib/BackTest.py:260: FutureWarning: Downcasting object dtype arrays on .fillna, .ffill, .bfill is deprecated and will change in a future version. Call result.infer_objects(copy=False) instead. To opt-in to the future behavior, set `pd.set_option('future.no_silent_downcasting', True)`\n",
      "  stonk = self.portfolio_records['Total'].pct_change()\n"
     ]
    }
   ],
   "source": [
    "from server.lib.BackTest import BackTest\n",
    "from server.lib.models import BaseModel\n",
    "from server.prebuilt.strategies import Double7Signal\n",
    "\n",
    "class BaseHoldNVDAModel(BaseModel):\n",
    "    def __init__(self):\n",
    "        super().__init__()\n",
    "        self.start_date = \"2022-08-07\"\n",
    "        self.end_date = \"2024-08-07\"\n",
    "        self.model_name = 'Double 7 Signals Alpha'\n",
    "        self.equities = ['PLTR']\n",
    "        self.alpha_model = Double7Signal()\n",
    "\n",
    "Test = BackTest(BaseHoldNVDAModel)\n",
    "Test.run()"
   ]
  },
  {
   "cell_type": "code",
   "execution_count": 3,
   "metadata": {},
   "outputs": [
    {
     "name": "stderr",
     "output_type": "stream",
     "text": [
      "[*********************100%***********************]  2 of 2 completed\n",
      "/home/duncan/Documents/github/AlphaTrade/server/lib/BackTest.py:64: FutureWarning: The behavior of DataFrame concatenation with empty or all-NA entries is deprecated. In a future version, this will no longer exclude empty or all-NA columns when determining the result dtypes. To retain the old behavior, exclude the relevant entries before the concat operation.\n",
      "  self.tradelog = pd.concat([self.tradelog, row], ignore_index=True)\n",
      "/home/duncan/Documents/github/AlphaTrade/server/lib/BackTest.py:339: FutureWarning: The behavior of DataFrame concatenation with empty or all-NA entries is deprecated. In a future version, this will no longer exclude empty or all-NA columns when determining the result dtypes. To retain the old behavior, exclude the relevant entries before the concat operation.\n",
      "  self.portfolio_records = pd.concat([self.portfolio_records, pd.DataFrame([self.portfolio_log])], ignore_index=True)\n"
     ]
    },
    {
     "name": "stdout",
     "output_type": "stream",
     "text": [
      "0.04130036079132279\n",
      "0.023783512100738098\n"
     ]
    },
    {
     "name": "stderr",
     "output_type": "stream",
     "text": [
      "/home/duncan/Documents/github/AlphaTrade/server/lib/BackTest.py:104: FutureWarning: The behavior of DataFrame concatenation with empty or all-NA entries is deprecated. In a future version, this will no longer exclude empty or all-NA columns when determining the result dtypes. To retain the old behavior, exclude the relevant entries before the concat operation.\n",
      "  self.trading_records = pd.concat([self.trading_records, log], ignore_index=True)\n"
     ]
    }
   ],
   "source": [
    "from server.lib.BackTest import BackTest\n",
    "from server.lib.models import BaseModel\n",
    "from server.prebuilt.strategies import Double7Signal\n",
    "from server.prebuilt.riskManagement import TraillingStopLoss\n",
    "\n",
    "class BaseHoldNVDAModel(BaseModel):\n",
    "    def __init__(self):\n",
    "        super().__init__()\n",
    "        self.start_date = \"2022-08-07\"\n",
    "        self.end_date = \"2024-08-07\"\n",
    "        self.model_name = 'Base Hold PLTR Model'\n",
    "        self.equities = ['PLTR']\n",
    "\n",
    "        self.alpha_model = Double7Signal()\n",
    "\n",
    "Test = BackTest(BaseHoldNVDAModel)\n",
    "Test.run()"
   ]
  },
  {
   "cell_type": "code",
   "execution_count": 13,
   "metadata": {},
   "outputs": [
    {
     "name": "stderr",
     "output_type": "stream",
     "text": [
      "[*********************100%***********************]  2 of 2 completed\n"
     ]
    },
    {
     "name": "stdout",
     "output_type": "stream",
     "text": [
      "Triggered 2023-08-10 00:00:00+00:00\n",
      "Triggered 2023-10-24 00:00:00+00:00\n",
      "Triggered 2024-06-03 00:00:00+00:00\n",
      "0.007447899701119547\n",
      "0.0049395364492153164\n"
     ]
    }
   ],
   "source": [
    "from server.lib.BackTest import BackTest\n",
    "from server.lib.models import BaseModel\n",
    "from server.prebuilt.strategies import Double7Signal\n",
    "from server.prebuilt.riskManagement import TraillingStopLoss\n",
    "from server.prebuilt.portfolioAllocations import PercentagePortfolioAllocation\n",
    "\n",
    "import warnings\n",
    "warnings.simplefilter(action='ignore', category=FutureWarning)\n",
    "\n",
    "class Double7SignalModel(BaseModel):\n",
    "    def __init__(self):\n",
    "        super().__init__()\n",
    "        self.start_date = \"2022-08-07\"\n",
    "        self.end_date = \"2024-10-17\"\n",
    "        self.model_name = 'Double 7 Signal with Tech Stocks with Trailling Stop Loss 10 Model'\n",
    "        self.equities = ['TTEK']\n",
    "        self.alpha_model = Double7Signal()\n",
    "        self.risk_control = TraillingStopLoss(5)\n",
    "\n",
    "Test = BackTest(Double7SignalModel)\n",
    "Test.run()"
   ]
  },
  {
   "cell_type": "code",
   "execution_count": 9,
   "metadata": {},
   "outputs": [
    {
     "name": "stderr",
     "output_type": "stream",
     "text": [
      "[*********************100%***********************]  2 of 2 completed\n"
     ]
    },
    {
     "name": "stdout",
     "output_type": "stream",
     "text": [
      "Triggered 2023-08-17 00:00:00+00:00\n",
      "Triggered 2024-08-05 00:00:00+00:00\n",
      "0.021233351167644517\n",
      "0.010674375279961467\n"
     ]
    }
   ],
   "source": [
    "from server.lib.BackTest import BackTest\n",
    "from server.lib.models import BaseModel\n",
    "from server.prebuilt.strategies import Double7Signal\n",
    "from server.prebuilt.riskManagement import TraillingStopLoss\n",
    "from server.prebuilt.portfolioAllocations import PercentagePortfolioAllocation\n",
    "\n",
    "import warnings\n",
    "warnings.simplefilter(action='ignore', category=FutureWarning)\n",
    "\n",
    "class Double7SignalModel(BaseModel):\n",
    "    def __init__(self):\n",
    "        super().__init__()\n",
    "        self.start_date = \"2021-08-07\"\n",
    "        self.end_date = \"2024-08-07\"\n",
    "        self.model_name = 'Double 7 Signal with Trailling Stop Loss 10 Model'\n",
    "        self.equities = ['PLTR']\n",
    "        self.alpha_model = Double7Signal()\n",
    "        self.risk_control = TraillingStopLoss(20)\n",
    "\n",
    "Test = BackTest(Double7SignalModel)\n",
    "Test.run()"
   ]
  },
  {
   "cell_type": "code",
   "execution_count": 1,
   "metadata": {},
   "outputs": [
    {
     "name": "stderr",
     "output_type": "stream",
     "text": [
      "[*********************100%***********************]  2 of 2 completed\n"
     ]
    },
    {
     "name": "stdout",
     "output_type": "stream",
     "text": [
      "0.0006740764404481221\n",
      "0.0004805286929090819\n"
     ]
    }
   ],
   "source": [
    "from server.lib.BackTest import BackTest\n",
    "from server.lib.models import BaseModel\n",
    "from server.prebuilt.strategies import Double7Signal\n",
    "from server.prebuilt.riskManagement import TraillingStopLoss\n",
    "from server.prebuilt.portfolioAllocations import PercentagePortfolioAllocation\n",
    "from server.lib.universe import BaseUniverseSetting\n",
    "\n",
    "import warnings\n",
    "warnings.simplefilter(action='ignore', category=FutureWarning)\n",
    "\n",
    "class Double7SignalModel(BaseModel):\n",
    "    def __init__(self):\n",
    "        super().__init__()\n",
    "        self.start_date = \"2024-09-21\"\n",
    "        self.end_date = \"2024-10-21\"\n",
    "        self.universe_management = BaseUniverseSetting()\n",
    "        self.universe_management.setIntervals(['5m'])\n",
    "        self.model_name = 'ETH-USD Double 7 Signal Model'\n",
    "        self.equities = ['ETH-USD']\n",
    "        self.alpha_model = Double7Signal()\n",
    "\n",
    "Test = BackTest(Double7SignalModel)\n",
    "Test.run()"
   ]
  },
  {
   "cell_type": "markdown",
   "metadata": {},
   "source": []
  }
 ],
 "metadata": {
  "kernelspec": {
   "display_name": ".venv",
   "language": "python",
   "name": "python3"
  },
  "language_info": {
   "codemirror_mode": {
    "name": "ipython",
    "version": 3
   },
   "file_extension": ".py",
   "mimetype": "text/x-python",
   "name": "python",
   "nbconvert_exporter": "python",
   "pygments_lexer": "ipython3",
   "version": "3.10.4"
  }
 },
 "nbformat": 4,
 "nbformat_minor": 2
}
