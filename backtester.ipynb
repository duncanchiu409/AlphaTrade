{
 "cells": [
  {
   "cell_type": "code",
   "execution_count": 1,
   "metadata": {},
   "outputs": [],
   "source": [
    "import warnings\n",
    "warnings.simplefilter(action='ignore', category=FutureWarning)\n",
    "\n",
    "from lib.BackTest import BackTest\n",
    "from lib.models import BaseModel\n",
    "from prebuilt.portfolioAllocations import PercentagePortfolioAllocation\n",
    "from prebuilt.riskManagement import TakeProfitStopLoss\n",
    "from prebuilt.riskManagement import TraillingStopLoss\n",
    "from custom.equitiesSelection import SpacsSelectionModel\n",
    "from prebuilt.strategies import Double7Signal\n",
    "from custom.strategies import SpacSignals"
   ]
  },
  {
   "cell_type": "code",
   "execution_count": 2,
   "metadata": {},
   "outputs": [],
   "source": [
    "# Template\n",
    "\n",
    "# class TemplateModel(BaseModel):\n",
    "#     def __init__():\n",
    "#         super.__init__()\n",
    "#         self.start_date = '2023-01-01'\n",
    "#         self.end_date = '2024-01-01'\n",
    "#         self.model_name = 'Basic Hold Model'\n",
    "#         self.universe_management = BaseUniverseSetting()\n",
    "#         self.equity_selection_management = BaseEquitySelectionModel()\n",
    "#         self.equity_filter = BaseEquityFilter()\n",
    "#         self.api_model_management = BaseAPIModel()\n",
    "#         self.portfolio_management = BasePortfolioAllocation(50000)\n",
    "#         self.hedging_system = None\n",
    "#         self.alpha_model = BaseHold()\n",
    "#         self.risk_control = BaseRiskManagement()\n",
    "#         self.charge_system = BaseChargeModel()\n",
    "\n",
    "# BackTest(TemplateModel).run()"
   ]
  },
  {
   "cell_type": "code",
   "execution_count": 3,
   "metadata": {},
   "outputs": [
    {
     "name": "stderr",
     "output_type": "stream",
     "text": [
      "[*********************100%***********************]  70 of 70 completed\n"
     ]
    },
    {
     "name": "stdout",
     "output_type": "stream",
     "text": [
      "0.00858594408261078\n",
      "0.005831886794142542\n"
     ]
    }
   ],
   "source": [
    "class SpacInsiderLogisticRegressionModel(BaseModel):\n",
    "    def __init__(self):\n",
    "        super().__init__()\n",
    "        self.start_date = \"2022-08-07\"\n",
    "        self.end_date = \"2024-08-07\"\n",
    "        self.model_name = 'SPAC Insider Logistic Regression Short Model'\n",
    "        self.equity_selection_management = SpacsSelectionModel(40, 5, 'Short', self.start_date, self.end_date)\n",
    "        self.portfolio_management = PercentagePortfolioAllocation(1000000, 10)\n",
    "        self.alpha_model = SpacSignals()\n",
    "        # self.risk_control = TakeProfitStopLoss(100, 20)\n",
    "\n",
    "Test = BackTest(SpacInsiderLogisticRegressionModel)\n",
    "Test.run()"
   ]
  },
  {
   "cell_type": "code",
   "execution_count": 4,
   "metadata": {},
   "outputs": [],
   "source": [
    "# import pandas as pd\n",
    "# from json import loads, dumps\n",
    "# pd.DataFrame(dict(Test.data), index=[0]).to_csv('test.csv')\n",
    "# # jsonObj = loads(pd.DataFrame(, columns=[x for (x, y) in Test.data]).to_json(orient='records'))\n",
    "\n",
    "# # with open('text.json', 'w', encoding='utf-8') as jsonf1:\n",
    "# #   jsonf1.write(dumps(jsonObj, indent=4))"
   ]
  },
  {
   "cell_type": "code",
   "execution_count": 5,
   "metadata": {},
   "outputs": [
    {
     "name": "stderr",
     "output_type": "stream",
     "text": [
      "[*********************100%***********************]  43 of 43 completed\n"
     ]
    },
    {
     "name": "stdout",
     "output_type": "stream",
     "text": [
      "0.016482919741814935\n",
      "0.01133447660706491\n"
     ]
    }
   ],
   "source": [
    "class SpacInsiderLogisticRegressionModel(BaseModel):\n",
    "    def __init__(self):\n",
    "        super().__init__()\n",
    "        self.start_date = \"2022-08-07\"\n",
    "        self.end_date = \"2024-08-07\"\n",
    "        self.model_name = 'SPAC Insider Logistic Regression Long Model'\n",
    "        self.equity_selection_management = SpacsSelectionModel(40, 5, 'Long', self.start_date, self.end_date)\n",
    "        self.portfolio_management = PercentagePortfolioAllocation(1000000, 10)\n",
    "        self.alpha_model = SpacSignals()\n",
    "        # self.risk_control = TakeProfitStopLoss(100, 20)\n",
    "\n",
    "Test = BackTest(SpacInsiderLogisticRegressionModel)\n",
    "Test.run()"
   ]
  },
  {
   "cell_type": "code",
   "execution_count": 6,
   "metadata": {},
   "outputs": [],
   "source": [
    "# class Double7SignalModel(BaseModel):\n",
    "#     def __init__(self):\n",
    "#         super().__init__()\n",
    "#         self.start_date = \"2024-09-21\"\n",
    "#         self.end_date = \"2024-10-21\"\n",
    "#         self.universe_management.setIntervals(['5m'])\n",
    "#         self.model_name = 'ETH-USD Double 7 Signal Model'\n",
    "#         self.equities = ['ETH-USD']\n",
    "#         self.alpha_model = Double7Signal()\n",
    "\n",
    "# BackTest(Double7SignalModel).run()"
   ]
  },
  {
   "cell_type": "code",
   "execution_count": 11,
   "metadata": {},
   "outputs": [],
   "source": [
    "import os\n",
    "import pandas as pd\n",
    "from json import loads, dumps\n",
    "\n",
    "DEFAULT_PATH = \"models\"\n",
    "WEBPUBLICPATH = f'web/src/data/'\n",
    "\n",
    "temporary_stonks = {}\n",
    "stonks_json = {'key': 'Equities', 'value': []}\n",
    "portfolio_json = {'key': 'Portfolio', 'value': []}\n",
    "trading_records_json = {'key': 'Trading Records', 'value': []}\n",
    "tables_json = {'key': 'Tables', 'value': []}\n",
    "\n",
    "models = os.listdir(DEFAULT_PATH)\n",
    "for model in models:\n",
    "  data_path = os.path.join(DEFAULT_PATH, model, \"data\")\n",
    "  stonks = os.listdir(data_path)\n",
    "\n",
    "  tmp = []\n",
    "  for stonk in stonks:\n",
    "    stonk_json_obj = {}\n",
    "    info = stonk.split(\"-\")\n",
    "\n",
    "    interval = info[-1].split(\".\")[0]\n",
    "    stonk_path = os.path.join(data_path, stonk)\n",
    "    df = pd.read_csv(stonk_path)\n",
    "    df_obj = loads(df.to_json(orient='records'))\n",
    "\n",
    "    stonk_json_obj['name'] = info[0]\n",
    "    stonk_json_obj['value'] = df_obj\n",
    "    tmp.append(stonk_json_obj)\n",
    "  stonks_json['value'].append({'name': model, 'value': tmp})\n",
    "\n",
    "  portfolio_path = os.path.join(DEFAULT_PATH, model, \"summary\", \"portfolio.csv\")\n",
    "  portfolio_json_obj = {}\n",
    "  df = pd.read_csv(portfolio_path)\n",
    "  df_obj = loads(df.to_json(orient='records'))\n",
    "\n",
    "  portfolio_json_obj[\"name\"] = model\n",
    "  portfolio_json_obj[\"value\"] = df_obj\n",
    "  portfolio_json[\"value\"].append(portfolio_json_obj)\n",
    "\n",
    "  trading_records_path = os.path.join(DEFAULT_PATH, model, \"summary\", \"trading-records.csv\")\n",
    "  trading_records_json_obj = {}\n",
    "  df = pd.read_csv(trading_records_path)\n",
    "  df_obj = loads(df.to_json(orient='records'))\n",
    "\n",
    "  trading_records_json_obj[\"name\"] = model\n",
    "  trading_records_json_obj[\"value\"] = df_obj\n",
    "  trading_records_json[\"value\"].append(trading_records_json_obj)\n",
    "\n",
    "  table_path = os.path.join(DEFAULT_PATH, model, \"summary\", \"table.csv\")\n",
    "  table_json_obj = {}\n",
    "  df = pd.read_csv(table_path)\n",
    "  df_obj = loads(df.to_json(orient='records'))\n",
    "\n",
    "  table_json_obj[\"name\"] = model\n",
    "  table_json_obj[\"value\"] = df_obj\n",
    "  tables_json[\"value\"].append(table_json_obj)\n",
    "\n",
    "\n",
    "for interval in temporary_stonks.keys():\n",
    "  for stonk in temporary_stonks[interval].keys():\n",
    "    stonks_json['value'].append({'interval': interval, 'equities': {'name': stonk, 'value': temporary_stonks[interval][stonk]}})\n",
    "\n",
    "klineFilePath = os.path.join(WEBPUBLICPATH, 'kline.json')\n",
    "with open(klineFilePath, 'w', encoding='utf-8') as jsonf1:\n",
    "  jsonf1.write(dumps(stonks_json, indent=4))\n",
    "\n",
    "recordsFilePath = os.path.join(WEBPUBLICPATH, 'portfolio.json')\n",
    "with open(recordsFilePath, 'w', encoding='utf-8') as jsonf2:\n",
    "  jsonf2.write(dumps(portfolio_json, indent=4))\n",
    "\n",
    "recordsFilePath = os.path.join(WEBPUBLICPATH, 'trading-records.json')\n",
    "with open(recordsFilePath, 'w', encoding='utf-8') as jsonf3:\n",
    "  jsonf3.write(dumps(trading_records_json, indent=4))\n",
    "\n",
    "tableFilePath = os.path.join(WEBPUBLICPATH, 'tables.json')\n",
    "with open(tableFilePath, 'w', encoding='utf-8') as jsonf3:\n",
    "  jsonf3.write(dumps(tables_json, indent=4))"
   ]
  },
  {
   "cell_type": "markdown",
   "metadata": {},
   "source": []
  }
 ],
 "metadata": {
  "kernelspec": {
   "display_name": ".venv",
   "language": "python",
   "name": "python3"
  },
  "language_info": {
   "codemirror_mode": {
    "name": "ipython",
    "version": 3
   },
   "file_extension": ".py",
   "mimetype": "text/x-python",
   "name": "python",
   "nbconvert_exporter": "python",
   "pygments_lexer": "ipython3",
   "version": "3.10.4"
  }
 },
 "nbformat": 4,
 "nbformat_minor": 2
}
