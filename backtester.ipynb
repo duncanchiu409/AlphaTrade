{
 "cells": [
  {
   "cell_type": "code",
   "execution_count": 1,
   "metadata": {},
   "outputs": [],
   "source": [
    "import pandas as pd\n",
    "class BaseHedgeFeature:\n",
    "\tdef __init__(self, equities):\n",
    "\t\tif equities == None:\n",
    "\t\t\tself.equity_names = []\n",
    "\t\telif type(equities) is str:\n",
    "\t\t\tself.equity_names = [equities]\n",
    "\t\telse:\n",
    "\t\t\tself.equity_names = equities\n",
    "\n",
    "\tdef set_model_data_path(self, model_data_path):\n",
    "\t\tself.model_data_path = model_data_path\n",
    "\n",
    "\tdef get_hedge_names(self):\n",
    "\t\treturn self.equity_names\n",
    "\n",
    "\tdef get_hedge_entry(self, tradelog):\n",
    "\t\tif len(self.equity_names) == 0:\n",
    "\t\t\treturn pd.DataFrame([])\n",
    "\n",
    "\t\tdf = pd.read_csv(f\"{self.model_data_path}/{self.equity_names[0]}-1d.csv\", parse_dates=['Date'])\n",
    "\n",
    "\t\thedges = []\n",
    "\t\tfor _, log in tradelog.iterrows():\n",
    "\t\t\trow = {col: 0.0 for col in tradelog.columns}\n",
    "\t\t\trow['Order no'] = log['Order no']\n",
    "\t\t\trow['Equity Name'] = self.equity_names[0]\n",
    "\t\t\trow['Trade'] = 'Long' if log['Trade'] == 'Long' else 'Short'\n",
    "\t\t\trow['Entry Time'] = log['Entry Time']\n",
    "\t\t\trow['Entry Price'] = df[df['Date'] == log['Entry Time']]['Open'].values[0]\n",
    "\t\t\trow['Position Size'] = log['Position Size']\n",
    "\t\t\trow['Quantity'] = round(row['Position Size'] / row['Entry Price'], 3)\n",
    "\t\t\thedges.append(row)\n",
    "\n",
    "\t\treturn pd.DataFrame(hedges ,columns=tradelog.columns)\n",
    "\n",
    "\tdef get_hedge_exit(self, tradelog, hedgelog):\n",
    "\t\tif len(self.equity_names) == 0:\n",
    "\t\t\treturn hedgelog\n",
    "\n",
    "\t\tdf = pd.read_csv(f\"{self.model_data_path}/{self.equity_names[0]}-1d.csv\", parse_dates=['Date'])\n",
    "\n",
    "\t\tfor _, log in tradelog.iterrows():\n",
    "\t\t\thedgelog.loc[hedgelog['Order no'] == log['Order no'], 'Exit Time'] = log['Exit Time']\n",
    "\t\t\thedgelog.loc[hedgelog['Order no'] == log['Order no'], 'Exit Price'] = df[df['Date'] == log['Exit Time']]['Open'].values[0]\n",
    "\t\t\thedgelog.loc[hedgelog['Order no'] == log['Order no'], 'Exit Type'] = log['Exit Type']\n",
    "\t\t\thedgelog.loc[hedgelog['Order no'] == log['Order no'], 'Holding Period'] = log['Exit Time'] - log['Entry Time']\n",
    "\n",
    "\t\treturn hedgelog"
   ]
  },
  {
   "cell_type": "code",
   "execution_count": 2,
   "metadata": {},
   "outputs": [
    {
     "name": "stderr",
     "output_type": "stream",
     "text": [
      "[*********************100%***********************]  37 of 37 completed\n"
     ]
    }
   ],
   "source": [
    "import warnings\n",
    "warnings.simplefilter(action='ignore', category=FutureWarning)\n",
    "\n",
    "from server.lib.BackTest import BackTest\n",
    "from server.lib.models import BaseModel\n",
    "from server.prebuilt.portfolioAllocations import PercentagePortfolioAllocation\n",
    "from server.prebuilt.riskManagement import TraillingStopLoss\n",
    "from server.custom.equitiesSelection import SpacsSelectionModel\n",
    "from server.custom.strategies import SpacSignals\n",
    "\n",
    "class SpacInsiderLogisticRegressionModel(BaseModel):\n",
    "    def __init__(self):\n",
    "        super().__init__()\n",
    "        self.start_date = \"2023-08-07\"\n",
    "        self.end_date = \"2024-08-07\"\n",
    "        self.model_name = 'SPAC Insider Logistic Regression with Trailling Stop Loss Model'\n",
    "        self.equity_selection_management = SpacsSelectionModel(40, 5, 'Short', self.start_date, self.end_date)\n",
    "        self.portfolio_management = PercentagePortfolioAllocation(1000000, 10)\n",
    "        self.alpha_model = SpacSignals()\n",
    "        self.risk_control = TraillingStopLoss(10)\n",
    "        self.hedging_system = BaseHedgeFeature('SPY')\n",
    "\n",
    "Test = BackTest(SpacInsiderLogisticRegressionModel)\n",
    "Test.run()"
   ]
  },
  {
   "cell_type": "code",
   "execution_count": 3,
   "metadata": {},
   "outputs": [
    {
     "name": "stderr",
     "output_type": "stream",
     "text": [
      "[*********************100%***********************]  36 of 36 completed\n"
     ]
    }
   ],
   "source": [
    "import warnings\n",
    "warnings.simplefilter(action='ignore', category=FutureWarning)\n",
    "\n",
    "from server.lib.BackTest import BackTest\n",
    "from server.lib.models import BaseModel\n",
    "from server.prebuilt.portfolioAllocations import PercentagePortfolioAllocation\n",
    "from server.prebuilt.riskManagement import TakeProfitStopLoss\n",
    "from server.custom.equitiesSelection import SpacsSelectionModel\n",
    "from server.custom.strategies import SpacSignals\n",
    "\n",
    "class SpacInsiderLogisticRegressionModel(BaseModel):\n",
    "    def __init__(self):\n",
    "        super().__init__()\n",
    "        self.start_date = \"2023-08-07\"\n",
    "        self.end_date = \"2024-08-07\"\n",
    "        self.model_name = 'SPAC Insider Logistic Regression with Stop Loss Model'\n",
    "        self.equity_selection_management = SpacsSelectionModel(40, 5, 'Short', self.start_date, self.end_date)\n",
    "        self.portfolio_management = PercentagePortfolioAllocation(1000000, 10)\n",
    "        self.alpha_model = SpacSignals()\n",
    "        self.risk_control = TakeProfitStopLoss(200, 10)\n",
    "\n",
    "Test = BackTest(SpacInsiderLogisticRegressionModel)\n",
    "Test.run()"
   ]
  },
  {
   "cell_type": "markdown",
   "metadata": {},
   "source": []
  }
 ],
 "metadata": {
  "kernelspec": {
   "display_name": ".venv",
   "language": "python",
   "name": "python3"
  },
  "language_info": {
   "codemirror_mode": {
    "name": "ipython",
    "version": 3
   },
   "file_extension": ".py",
   "mimetype": "text/x-python",
   "name": "python",
   "nbconvert_exporter": "python",
   "pygments_lexer": "ipython3",
   "version": "3.10.4"
  }
 },
 "nbformat": 4,
 "nbformat_minor": 2
}
