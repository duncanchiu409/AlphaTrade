{
 "cells": [
  {
   "cell_type": "code",
   "execution_count": 1,
   "metadata": {},
   "outputs": [
    {
     "name": "stderr",
     "output_type": "stream",
     "text": [
      "[*********************100%***********************]  36 of 36 completed\n"
     ]
    },
    {
     "name": "stdout",
     "output_type": "stream",
     "text": [
      "0.00889476889472629\n",
      "0.007494222870713408\n"
     ]
    }
   ],
   "source": [
    "import warnings\n",
    "warnings.simplefilter(action='ignore', category=FutureWarning)\n",
    "\n",
    "from server.lib.BackTest import BackTest\n",
    "from server.lib.models import BaseModel\n",
    "from server.prebuilt.portfolioAllocations import PercentagePortfolioAllocation\n",
    "from server.prebuilt.riskManagement import TakeProfitStopLoss\n",
    "from server.custom.equitiesSelection import SpacsSelectionModel\n",
    "from server.custom.strategies import SpacSignals\n",
    "\n",
    "class SpacInsiderLogisticRegressionModel(BaseModel):\n",
    "    def __init__(self):\n",
    "        super().__init__()\n",
    "        self.start_date = \"2023-08-07\"\n",
    "        self.end_date = \"2024-08-07\"\n",
    "        self.model_name = 'SPAC Insider Logistic Regression with Stop Loss Model'\n",
    "        self.equity_selection_management = SpacsSelectionModel(40, 5, 'Short', self.start_date, self.end_date)\n",
    "        self.portfolio_management = PercentagePortfolioAllocation(1000000, 10)\n",
    "        self.alpha_model = SpacSignals()\n",
    "        self.risk_control = TakeProfitStopLoss(200, 10)\n",
    "\n",
    "Test = BackTest(SpacInsiderLogisticRegressionModel)\n",
    "Test.run()"
   ]
  },
  {
   "cell_type": "code",
   "execution_count": 2,
   "metadata": {},
   "outputs": [
    {
     "name": "stderr",
     "output_type": "stream",
     "text": [
      "[*********************100%***********************]  36 of 36 completed\n"
     ]
    },
    {
     "name": "stdout",
     "output_type": "stream",
     "text": [
      "0.004495997052107099\n",
      "0.0026038582603444414\n"
     ]
    }
   ],
   "source": [
    "import warnings\n",
    "warnings.simplefilter(action='ignore', category=FutureWarning)\n",
    "\n",
    "from server.lib.BackTest import BackTest\n",
    "from server.lib.models import BaseModel\n",
    "from server.prebuilt.portfolioAllocations import PercentagePortfolioAllocation\n",
    "from server.prebuilt.riskManagement import TraillingStopLoss\n",
    "from server.custom.equitiesSelection import SpacsSelectionModel\n",
    "from server.custom.strategies import SpacSignals\n",
    "\n",
    "class SpacInsiderLogisticRegressionModel(BaseModel):\n",
    "    def __init__(self):\n",
    "        super().__init__()\n",
    "        self.start_date = \"2023-08-07\"\n",
    "        self.end_date = \"2024-08-07\"\n",
    "        self.model_name = 'SPAC Insider Logistic Regression with Trailling Stop Loss Model'\n",
    "        self.equity_selection_management = SpacsSelectionModel(40, 5, 'Short', self.start_date, self.end_date)\n",
    "        self.portfolio_management = PercentagePortfolioAllocation(1000000, 10)\n",
    "        self.alpha_model = SpacSignals()\n",
    "        self.risk_control = TraillingStopLoss(10)\n",
    "\n",
    "Test = BackTest(SpacInsiderLogisticRegressionModel)\n",
    "Test.run()"
   ]
  },
  {
   "cell_type": "code",
   "execution_count": 3,
   "metadata": {},
   "outputs": [
    {
     "name": "stderr",
     "output_type": "stream",
     "text": [
      "[*********************100%***********************]  36 of 36 completed\n"
     ]
    },
    {
     "name": "stdout",
     "output_type": "stream",
     "text": [
      "0.0024447497318743888\n",
      "0.0013978192464371673\n"
     ]
    }
   ],
   "source": [
    "import warnings\n",
    "warnings.simplefilter(action='ignore', category=FutureWarning)\n",
    "\n",
    "from server.lib.BackTest import BackTest\n",
    "from server.lib.models import BaseModel\n",
    "from server.prebuilt.portfolioAllocations import PercentagePortfolioAllocation\n",
    "from server.prebuilt.riskManagement import TraillingStopLoss\n",
    "from server.prebuilt.hedgingSystem import BaseHedgeFeature\n",
    "from server.custom.equitiesSelection import SpacsSelectionModel\n",
    "from server.custom.strategies import SpacSignals\n",
    "\n",
    "class SpacInsiderLogisticRegressionModel(BaseModel):\n",
    "    def __init__(self):\n",
    "        super().__init__()\n",
    "        self.start_date = \"2023-08-07\"\n",
    "        self.end_date = \"2024-08-07\"\n",
    "        self.model_name = 'SPAC Insider Logistic Regression with Trailling Stop Loss with Hedging Model'\n",
    "        self.equity_selection_management = SpacsSelectionModel(40, 5, 'Short', self.start_date, self.end_date)\n",
    "        self.portfolio_management = PercentagePortfolioAllocation(1000000, 10)\n",
    "        self.alpha_model = SpacSignals()\n",
    "        self.risk_control = TraillingStopLoss(10)\n",
    "        self.hedging_system = BaseHedgeFeature('QQQ')\n",
    "\n",
    "Test = BackTest(SpacInsiderLogisticRegressionModel)\n",
    "Test.run()"
   ]
  },
  {
   "cell_type": "markdown",
   "metadata": {},
   "source": []
  }
 ],
 "metadata": {
  "kernelspec": {
   "display_name": ".venv",
   "language": "python",
   "name": "python3"
  },
  "language_info": {
   "codemirror_mode": {
    "name": "ipython",
    "version": 3
   },
   "file_extension": ".py",
   "mimetype": "text/x-python",
   "name": "python",
   "nbconvert_exporter": "python",
   "pygments_lexer": "ipython3",
   "version": "3.10.4"
  }
 },
 "nbformat": 4,
 "nbformat_minor": 2
}
